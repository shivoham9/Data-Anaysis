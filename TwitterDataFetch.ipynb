{
 "cells": [
  {
   "cell_type": "markdown",
   "metadata": {},
   "source": [
    "    Twitter Data Fetch Using API"
   ]
  },
  {
   "cell_type": "markdown",
   "metadata": {},
   "source": [
    "###### Open Powershell using Admin Privilleges\n",
    "\n",
    "    python -m pip install tweepy"
   ]
  },
  {
   "cell_type": "code",
   "execution_count": 1,
   "metadata": {},
   "outputs": [
    {
     "name": "stdout",
     "output_type": "stream",
     "text": [
      "Collecting tweepy\n",
      "  Downloading https://files.pythonhosted.org/packages/36/1b/2bd38043d22ade352fc3d3902cf30ce0e2f4bf285be3b304a2782a767aec/tweepy-3.8.0-py2.py3-none-any.whl\n",
      "Collecting requests-oauthlib>=0.7.0 (from tweepy)\n",
      "  Downloading https://files.pythonhosted.org/packages/a3/12/b92740d845ab62ea4edf04d2f4164d82532b5a0b03836d4d4e71c6f3d379/requests_oauthlib-1.3.0-py2.py3-none-any.whl\n",
      "Requirement already satisfied: six>=1.10.0 in c:\\users\\hp\\anaconda3\\lib\\site-packages (from tweepy) (1.12.0)\n",
      "Requirement already satisfied: requests>=2.11.1 in c:\\users\\hp\\anaconda3\\lib\\site-packages (from tweepy) (2.22.0)\n",
      "Requirement already satisfied: PySocks>=1.5.7 in c:\\users\\hp\\anaconda3\\lib\\site-packages (from tweepy) (1.7.1)\n",
      "Collecting oauthlib>=3.0.0 (from requests-oauthlib>=0.7.0->tweepy)\n",
      "  Downloading https://files.pythonhosted.org/packages/05/57/ce2e7a8fa7c0afb54a0581b14a65b56e62b5759dbc98e80627142b8a3704/oauthlib-3.1.0-py2.py3-none-any.whl (147kB)\n",
      "Requirement already satisfied: chardet<3.1.0,>=3.0.2 in c:\\users\\hp\\anaconda3\\lib\\site-packages (from requests>=2.11.1->tweepy) (3.0.4)\n",
      "Requirement already satisfied: idna<2.9,>=2.5 in c:\\users\\hp\\anaconda3\\lib\\site-packages (from requests>=2.11.1->tweepy) (2.8)\n",
      "Requirement already satisfied: certifi>=2017.4.17 in c:\\users\\hp\\anaconda3\\lib\\site-packages (from requests>=2.11.1->tweepy) (2019.9.11)\n",
      "Requirement already satisfied: urllib3!=1.25.0,!=1.25.1,<1.26,>=1.21.1 in c:\\users\\hp\\anaconda3\\lib\\site-packages (from requests>=2.11.1->tweepy) (1.24.2)\n",
      "Installing collected packages: oauthlib, requests-oauthlib, tweepy\n",
      "Successfully installed oauthlib-3.1.0 requests-oauthlib-1.3.0 tweepy-3.8.0\n"
     ]
    }
   ],
   "source": [
    "!python -m pip install tweepy #download package"
   ]
  },
  {
   "cell_type": "code",
   "execution_count": 2,
   "metadata": {},
   "outputs": [],
   "source": [
    "from tweepy import OAuthHandler, Stream, StreamListener # use twitter package"
   ]
  },
  {
   "cell_type": "code",
   "execution_count": 3,
   "metadata": {},
   "outputs": [
    {
     "name": "stdout",
     "output_type": "stream",
     "text": [
      "['__class__', '__delattr__', '__dict__', '__dir__', '__doc__', '__eq__', '__format__', '__ge__', '__getattribute__', '__gt__', '__hash__', '__init__', '__init_subclass__', '__le__', '__lt__', '__module__', '__ne__', '__new__', '__reduce__', '__reduce_ex__', '__repr__', '__setattr__', '__sizeof__', '__str__', '__subclasshook__', '__weakref__', 'keep_alive', 'on_connect', 'on_data', 'on_delete', 'on_direct_message', 'on_disconnect', 'on_error', 'on_event', 'on_exception', 'on_friends', 'on_limit', 'on_scrub_geo', 'on_status', 'on_status_withheld', 'on_timeout', 'on_user_withheld', 'on_warning']\n"
     ]
    }
   ],
   "source": [
    "print(dir(StreamListener))"
   ]
  },
  {
   "cell_type": "code",
   "execution_count": 4,
   "metadata": {},
   "outputs": [],
   "source": [
    "class DataFetch(StreamListener):\n",
    "    def on_data(self, tweet):\n",
    "        #print(tweet)\n",
    "        fp = open(\"tweets.txt\", \"a\")\n",
    "        fp.write(tweet)\n",
    "        fp.write(\"\\n\")\n",
    "        fp.close()\n",
    "    def on_error(self, err_msg):\n",
    "        print(f\"!!Error!! {err_msg}\")"
   ]
  },
  {
   "cell_type": "code",
   "execution_count": 5,
   "metadata": {},
   "outputs": [],
   "source": [
    "api_key = \"ziF1UgwIUd6cI6HDWp20rjihD\"\n",
    "api_secret = \"Nmpbg9y5YlrkIkCF9TvLeA083dNOfg2S5Jy5XSaCALhQEHk1qh\"\n",
    "\n",
    "access_token = \"1034315062088003584-LWXMQPjqV2hrpPYiMJ74VEc8QM2Qtt\"\n",
    "access_secret = \"xpSLfl9U6IJzPUpwEJusfEk8ncyY7tj0l2oOxghHfLx6H\"\n",
    "\n",
    "auth = OAuthHandler(api_key, api_secret)\n",
    "\n",
    "auth.set_access_token(access_token, access_secret)"
   ]
  },
  {
   "cell_type": "code",
   "execution_count": 6,
   "metadata": {},
   "outputs": [],
   "source": [
    "fetch_tweet = DataFetch()"
   ]
  },
  {
   "cell_type": "code",
   "execution_count": 7,
   "metadata": {},
   "outputs": [],
   "source": [
    "tweets = Stream(auth, fetch_tweet)"
   ]
  },
  {
   "cell_type": "markdown",
   "metadata": {},
   "source": [
    "**ETL**"
   ]
  },
  {
   "cell_type": "code",
   "execution_count": 8,
   "metadata": {},
   "outputs": [
    {
     "ename": "KeyboardInterrupt",
     "evalue": "",
     "output_type": "error",
     "traceback": [
      "\u001b[1;31m---------------------------------------------------------------------------\u001b[0m",
      "\u001b[1;31mWantReadError\u001b[0m                             Traceback (most recent call last)",
      "\u001b[1;32m~\\Anaconda3\\lib\\site-packages\\urllib3\\contrib\\pyopenssl.py\u001b[0m in \u001b[0;36mrecv_into\u001b[1;34m(self, *args, **kwargs)\u001b[0m\n\u001b[0;32m    296\u001b[0m         \u001b[1;32mtry\u001b[0m\u001b[1;33m:\u001b[0m\u001b[1;33m\u001b[0m\u001b[1;33m\u001b[0m\u001b[0m\n\u001b[1;32m--> 297\u001b[1;33m             \u001b[1;32mreturn\u001b[0m \u001b[0mself\u001b[0m\u001b[1;33m.\u001b[0m\u001b[0mconnection\u001b[0m\u001b[1;33m.\u001b[0m\u001b[0mrecv_into\u001b[0m\u001b[1;33m(\u001b[0m\u001b[1;33m*\u001b[0m\u001b[0margs\u001b[0m\u001b[1;33m,\u001b[0m \u001b[1;33m**\u001b[0m\u001b[0mkwargs\u001b[0m\u001b[1;33m)\u001b[0m\u001b[1;33m\u001b[0m\u001b[1;33m\u001b[0m\u001b[0m\n\u001b[0m\u001b[0;32m    298\u001b[0m         \u001b[1;32mexcept\u001b[0m \u001b[0mOpenSSL\u001b[0m\u001b[1;33m.\u001b[0m\u001b[0mSSL\u001b[0m\u001b[1;33m.\u001b[0m\u001b[0mSysCallError\u001b[0m \u001b[1;32mas\u001b[0m \u001b[0me\u001b[0m\u001b[1;33m:\u001b[0m\u001b[1;33m\u001b[0m\u001b[1;33m\u001b[0m\u001b[0m\n",
      "\u001b[1;32m~\\Anaconda3\\lib\\site-packages\\OpenSSL\\SSL.py\u001b[0m in \u001b[0;36mrecv_into\u001b[1;34m(self, buffer, nbytes, flags)\u001b[0m\n\u001b[0;32m   1821\u001b[0m             \u001b[0mresult\u001b[0m \u001b[1;33m=\u001b[0m \u001b[0m_lib\u001b[0m\u001b[1;33m.\u001b[0m\u001b[0mSSL_read\u001b[0m\u001b[1;33m(\u001b[0m\u001b[0mself\u001b[0m\u001b[1;33m.\u001b[0m\u001b[0m_ssl\u001b[0m\u001b[1;33m,\u001b[0m \u001b[0mbuf\u001b[0m\u001b[1;33m,\u001b[0m \u001b[0mnbytes\u001b[0m\u001b[1;33m)\u001b[0m\u001b[1;33m\u001b[0m\u001b[1;33m\u001b[0m\u001b[0m\n\u001b[1;32m-> 1822\u001b[1;33m         \u001b[0mself\u001b[0m\u001b[1;33m.\u001b[0m\u001b[0m_raise_ssl_error\u001b[0m\u001b[1;33m(\u001b[0m\u001b[0mself\u001b[0m\u001b[1;33m.\u001b[0m\u001b[0m_ssl\u001b[0m\u001b[1;33m,\u001b[0m \u001b[0mresult\u001b[0m\u001b[1;33m)\u001b[0m\u001b[1;33m\u001b[0m\u001b[1;33m\u001b[0m\u001b[0m\n\u001b[0m\u001b[0;32m   1823\u001b[0m \u001b[1;33m\u001b[0m\u001b[0m\n",
      "\u001b[1;32m~\\Anaconda3\\lib\\site-packages\\OpenSSL\\SSL.py\u001b[0m in \u001b[0;36m_raise_ssl_error\u001b[1;34m(self, ssl, result)\u001b[0m\n\u001b[0;32m   1621\u001b[0m         \u001b[1;32mif\u001b[0m \u001b[0merror\u001b[0m \u001b[1;33m==\u001b[0m \u001b[0m_lib\u001b[0m\u001b[1;33m.\u001b[0m\u001b[0mSSL_ERROR_WANT_READ\u001b[0m\u001b[1;33m:\u001b[0m\u001b[1;33m\u001b[0m\u001b[1;33m\u001b[0m\u001b[0m\n\u001b[1;32m-> 1622\u001b[1;33m             \u001b[1;32mraise\u001b[0m \u001b[0mWantReadError\u001b[0m\u001b[1;33m(\u001b[0m\u001b[1;33m)\u001b[0m\u001b[1;33m\u001b[0m\u001b[1;33m\u001b[0m\u001b[0m\n\u001b[0m\u001b[0;32m   1623\u001b[0m         \u001b[1;32melif\u001b[0m \u001b[0merror\u001b[0m \u001b[1;33m==\u001b[0m \u001b[0m_lib\u001b[0m\u001b[1;33m.\u001b[0m\u001b[0mSSL_ERROR_WANT_WRITE\u001b[0m\u001b[1;33m:\u001b[0m\u001b[1;33m\u001b[0m\u001b[1;33m\u001b[0m\u001b[0m\n",
      "\u001b[1;31mWantReadError\u001b[0m: ",
      "\nDuring handling of the above exception, another exception occurred:\n",
      "\u001b[1;31mKeyboardInterrupt\u001b[0m                         Traceback (most recent call last)",
      "\u001b[1;32m<ipython-input-8-e1f5737e96a9>\u001b[0m in \u001b[0;36m<module>\u001b[1;34m\u001b[0m\n\u001b[0;32m      1\u001b[0m \u001b[1;31m# Extraction\u001b[0m\u001b[1;33m\u001b[0m\u001b[1;33m\u001b[0m\u001b[1;33m\u001b[0m\u001b[0m\n\u001b[1;32m----> 2\u001b[1;33m \u001b[0mtweets\u001b[0m\u001b[1;33m.\u001b[0m\u001b[0mfilter\u001b[0m\u001b[1;33m(\u001b[0m\u001b[0mtrack\u001b[0m\u001b[1;33m=\u001b[0m\u001b[1;33m[\u001b[0m\u001b[1;34m'corona'\u001b[0m\u001b[1;33m,\u001b[0m \u001b[1;34m'modi'\u001b[0m\u001b[1;33m,\u001b[0m \u001b[1;34m'india'\u001b[0m \u001b[1;33m]\u001b[0m\u001b[1;33m)\u001b[0m\u001b[1;33m\u001b[0m\u001b[1;33m\u001b[0m\u001b[0m\n\u001b[0m",
      "\u001b[1;32m~\\Anaconda3\\lib\\site-packages\\tweepy\\streaming.py\u001b[0m in \u001b[0;36mfilter\u001b[1;34m(self, follow, track, is_async, locations, stall_warnings, languages, encoding, filter_level)\u001b[0m\n\u001b[0;32m    472\u001b[0m             \u001b[0mself\u001b[0m\u001b[1;33m.\u001b[0m\u001b[0mbody\u001b[0m\u001b[1;33m[\u001b[0m\u001b[1;34m'filter_level'\u001b[0m\u001b[1;33m]\u001b[0m \u001b[1;33m=\u001b[0m \u001b[0mfilter_level\u001b[0m\u001b[1;33m.\u001b[0m\u001b[0mencode\u001b[0m\u001b[1;33m(\u001b[0m\u001b[0mencoding\u001b[0m\u001b[1;33m)\u001b[0m\u001b[1;33m\u001b[0m\u001b[1;33m\u001b[0m\u001b[0m\n\u001b[0;32m    473\u001b[0m         \u001b[0mself\u001b[0m\u001b[1;33m.\u001b[0m\u001b[0msession\u001b[0m\u001b[1;33m.\u001b[0m\u001b[0mparams\u001b[0m \u001b[1;33m=\u001b[0m \u001b[1;33m{\u001b[0m\u001b[1;34m'delimited'\u001b[0m\u001b[1;33m:\u001b[0m \u001b[1;34m'length'\u001b[0m\u001b[1;33m}\u001b[0m\u001b[1;33m\u001b[0m\u001b[1;33m\u001b[0m\u001b[0m\n\u001b[1;32m--> 474\u001b[1;33m         \u001b[0mself\u001b[0m\u001b[1;33m.\u001b[0m\u001b[0m_start\u001b[0m\u001b[1;33m(\u001b[0m\u001b[0mis_async\u001b[0m\u001b[1;33m)\u001b[0m\u001b[1;33m\u001b[0m\u001b[1;33m\u001b[0m\u001b[0m\n\u001b[0m\u001b[0;32m    475\u001b[0m \u001b[1;33m\u001b[0m\u001b[0m\n\u001b[0;32m    476\u001b[0m     def sitestream(self, follow, stall_warnings=False,\n",
      "\u001b[1;32m~\\Anaconda3\\lib\\site-packages\\tweepy\\streaming.py\u001b[0m in \u001b[0;36m_start\u001b[1;34m(self, is_async)\u001b[0m\n\u001b[0;32m    387\u001b[0m             \u001b[0mself\u001b[0m\u001b[1;33m.\u001b[0m\u001b[0m_thread\u001b[0m\u001b[1;33m.\u001b[0m\u001b[0mstart\u001b[0m\u001b[1;33m(\u001b[0m\u001b[1;33m)\u001b[0m\u001b[1;33m\u001b[0m\u001b[1;33m\u001b[0m\u001b[0m\n\u001b[0;32m    388\u001b[0m         \u001b[1;32melse\u001b[0m\u001b[1;33m:\u001b[0m\u001b[1;33m\u001b[0m\u001b[1;33m\u001b[0m\u001b[0m\n\u001b[1;32m--> 389\u001b[1;33m             \u001b[0mself\u001b[0m\u001b[1;33m.\u001b[0m\u001b[0m_run\u001b[0m\u001b[1;33m(\u001b[0m\u001b[1;33m)\u001b[0m\u001b[1;33m\u001b[0m\u001b[1;33m\u001b[0m\u001b[0m\n\u001b[0m\u001b[0;32m    390\u001b[0m \u001b[1;33m\u001b[0m\u001b[0m\n\u001b[0;32m    391\u001b[0m     \u001b[1;32mdef\u001b[0m \u001b[0mon_closed\u001b[0m\u001b[1;33m(\u001b[0m\u001b[0mself\u001b[0m\u001b[1;33m,\u001b[0m \u001b[0mresp\u001b[0m\u001b[1;33m)\u001b[0m\u001b[1;33m:\u001b[0m\u001b[1;33m\u001b[0m\u001b[1;33m\u001b[0m\u001b[0m\n",
      "\u001b[1;32m~\\Anaconda3\\lib\\site-packages\\tweepy\\streaming.py\u001b[0m in \u001b[0;36m_run\u001b[1;34m(self)\u001b[0m\n\u001b[0;32m    287\u001b[0m                     \u001b[0mself\u001b[0m\u001b[1;33m.\u001b[0m\u001b[0msnooze_time\u001b[0m \u001b[1;33m=\u001b[0m \u001b[0mself\u001b[0m\u001b[1;33m.\u001b[0m\u001b[0msnooze_time_step\u001b[0m\u001b[1;33m\u001b[0m\u001b[1;33m\u001b[0m\u001b[0m\n\u001b[0;32m    288\u001b[0m                     \u001b[0mself\u001b[0m\u001b[1;33m.\u001b[0m\u001b[0mlistener\u001b[0m\u001b[1;33m.\u001b[0m\u001b[0mon_connect\u001b[0m\u001b[1;33m(\u001b[0m\u001b[1;33m)\u001b[0m\u001b[1;33m\u001b[0m\u001b[1;33m\u001b[0m\u001b[0m\n\u001b[1;32m--> 289\u001b[1;33m                     \u001b[0mself\u001b[0m\u001b[1;33m.\u001b[0m\u001b[0m_read_loop\u001b[0m\u001b[1;33m(\u001b[0m\u001b[0mresp\u001b[0m\u001b[1;33m)\u001b[0m\u001b[1;33m\u001b[0m\u001b[1;33m\u001b[0m\u001b[0m\n\u001b[0m\u001b[0;32m    290\u001b[0m             \u001b[1;32mexcept\u001b[0m \u001b[1;33m(\u001b[0m\u001b[0mTimeout\u001b[0m\u001b[1;33m,\u001b[0m \u001b[0mssl\u001b[0m\u001b[1;33m.\u001b[0m\u001b[0mSSLError\u001b[0m\u001b[1;33m)\u001b[0m \u001b[1;32mas\u001b[0m \u001b[0mexc\u001b[0m\u001b[1;33m:\u001b[0m\u001b[1;33m\u001b[0m\u001b[1;33m\u001b[0m\u001b[0m\n\u001b[0;32m    291\u001b[0m                 \u001b[1;31m# This is still necessary, as a SSLError can actually be\u001b[0m\u001b[1;33m\u001b[0m\u001b[1;33m\u001b[0m\u001b[1;33m\u001b[0m\u001b[0m\n",
      "\u001b[1;32m~\\Anaconda3\\lib\\site-packages\\tweepy\\streaming.py\u001b[0m in \u001b[0;36m_read_loop\u001b[1;34m(self, resp)\u001b[0m\n\u001b[0;32m    337\u001b[0m             \u001b[0mlength\u001b[0m \u001b[1;33m=\u001b[0m \u001b[1;36m0\u001b[0m\u001b[1;33m\u001b[0m\u001b[1;33m\u001b[0m\u001b[0m\n\u001b[0;32m    338\u001b[0m             \u001b[1;32mwhile\u001b[0m \u001b[1;32mnot\u001b[0m \u001b[0mresp\u001b[0m\u001b[1;33m.\u001b[0m\u001b[0mraw\u001b[0m\u001b[1;33m.\u001b[0m\u001b[0mclosed\u001b[0m\u001b[1;33m:\u001b[0m\u001b[1;33m\u001b[0m\u001b[1;33m\u001b[0m\u001b[0m\n\u001b[1;32m--> 339\u001b[1;33m                 \u001b[0mline\u001b[0m \u001b[1;33m=\u001b[0m \u001b[0mbuf\u001b[0m\u001b[1;33m.\u001b[0m\u001b[0mread_line\u001b[0m\u001b[1;33m(\u001b[0m\u001b[1;33m)\u001b[0m\u001b[1;33m\u001b[0m\u001b[1;33m\u001b[0m\u001b[0m\n\u001b[0m\u001b[0;32m    340\u001b[0m                 \u001b[0mstripped_line\u001b[0m \u001b[1;33m=\u001b[0m \u001b[0mline\u001b[0m\u001b[1;33m.\u001b[0m\u001b[0mstrip\u001b[0m\u001b[1;33m(\u001b[0m\u001b[1;33m)\u001b[0m \u001b[1;32mif\u001b[0m \u001b[0mline\u001b[0m \u001b[1;32melse\u001b[0m \u001b[0mline\u001b[0m \u001b[1;31m# line is sometimes None so we need to check here\u001b[0m\u001b[1;33m\u001b[0m\u001b[1;33m\u001b[0m\u001b[0m\n\u001b[0;32m    341\u001b[0m                 \u001b[1;32mif\u001b[0m \u001b[1;32mnot\u001b[0m \u001b[0mstripped_line\u001b[0m\u001b[1;33m:\u001b[0m\u001b[1;33m\u001b[0m\u001b[1;33m\u001b[0m\u001b[0m\n",
      "\u001b[1;32m~\\Anaconda3\\lib\\site-packages\\tweepy\\streaming.py\u001b[0m in \u001b[0;36mread_line\u001b[1;34m(self, sep)\u001b[0m\n\u001b[0;32m    198\u001b[0m             \u001b[1;32melse\u001b[0m\u001b[1;33m:\u001b[0m\u001b[1;33m\u001b[0m\u001b[1;33m\u001b[0m\u001b[0m\n\u001b[0;32m    199\u001b[0m                 \u001b[0mstart\u001b[0m \u001b[1;33m=\u001b[0m \u001b[0mlen\u001b[0m\u001b[1;33m(\u001b[0m\u001b[0mself\u001b[0m\u001b[1;33m.\u001b[0m\u001b[0m_buffer\u001b[0m\u001b[1;33m)\u001b[0m\u001b[1;33m\u001b[0m\u001b[1;33m\u001b[0m\u001b[0m\n\u001b[1;32m--> 200\u001b[1;33m             \u001b[0mself\u001b[0m\u001b[1;33m.\u001b[0m\u001b[0m_buffer\u001b[0m \u001b[1;33m+=\u001b[0m \u001b[0mself\u001b[0m\u001b[1;33m.\u001b[0m\u001b[0m_stream\u001b[0m\u001b[1;33m.\u001b[0m\u001b[0mread\u001b[0m\u001b[1;33m(\u001b[0m\u001b[0mself\u001b[0m\u001b[1;33m.\u001b[0m\u001b[0m_chunk_size\u001b[0m\u001b[1;33m)\u001b[0m\u001b[1;33m\u001b[0m\u001b[1;33m\u001b[0m\u001b[0m\n\u001b[0m\u001b[0;32m    201\u001b[0m         \u001b[1;32mreturn\u001b[0m \u001b[0msix\u001b[0m\u001b[1;33m.\u001b[0m\u001b[0mb\u001b[0m\u001b[1;33m(\u001b[0m\u001b[1;34m''\u001b[0m\u001b[1;33m)\u001b[0m\u001b[1;33m\u001b[0m\u001b[1;33m\u001b[0m\u001b[0m\n\u001b[0;32m    202\u001b[0m \u001b[1;33m\u001b[0m\u001b[0m\n",
      "\u001b[1;32m~\\Anaconda3\\lib\\site-packages\\urllib3\\response.py\u001b[0m in \u001b[0;36mread\u001b[1;34m(self, amt, decode_content, cache_content)\u001b[0m\n\u001b[0;32m    440\u001b[0m             \u001b[1;32melse\u001b[0m\u001b[1;33m:\u001b[0m\u001b[1;33m\u001b[0m\u001b[1;33m\u001b[0m\u001b[0m\n\u001b[0;32m    441\u001b[0m                 \u001b[0mcache_content\u001b[0m \u001b[1;33m=\u001b[0m \u001b[1;32mFalse\u001b[0m\u001b[1;33m\u001b[0m\u001b[1;33m\u001b[0m\u001b[0m\n\u001b[1;32m--> 442\u001b[1;33m                 \u001b[0mdata\u001b[0m \u001b[1;33m=\u001b[0m \u001b[0mself\u001b[0m\u001b[1;33m.\u001b[0m\u001b[0m_fp\u001b[0m\u001b[1;33m.\u001b[0m\u001b[0mread\u001b[0m\u001b[1;33m(\u001b[0m\u001b[0mamt\u001b[0m\u001b[1;33m)\u001b[0m\u001b[1;33m\u001b[0m\u001b[1;33m\u001b[0m\u001b[0m\n\u001b[0m\u001b[0;32m    443\u001b[0m                 \u001b[1;32mif\u001b[0m \u001b[0mamt\u001b[0m \u001b[1;33m!=\u001b[0m \u001b[1;36m0\u001b[0m \u001b[1;32mand\u001b[0m \u001b[1;32mnot\u001b[0m \u001b[0mdata\u001b[0m\u001b[1;33m:\u001b[0m  \u001b[1;31m# Platform-specific: Buggy versions of Python.\u001b[0m\u001b[1;33m\u001b[0m\u001b[1;33m\u001b[0m\u001b[0m\n\u001b[0;32m    444\u001b[0m                     \u001b[1;31m# Close the connection when no data is returned\u001b[0m\u001b[1;33m\u001b[0m\u001b[1;33m\u001b[0m\u001b[1;33m\u001b[0m\u001b[0m\n",
      "\u001b[1;32m~\\Anaconda3\\lib\\http\\client.py\u001b[0m in \u001b[0;36mread\u001b[1;34m(self, amt)\u001b[0m\n\u001b[0;32m    455\u001b[0m             \u001b[1;31m# Amount is given, implement using readinto\u001b[0m\u001b[1;33m\u001b[0m\u001b[1;33m\u001b[0m\u001b[1;33m\u001b[0m\u001b[0m\n\u001b[0;32m    456\u001b[0m             \u001b[0mb\u001b[0m \u001b[1;33m=\u001b[0m \u001b[0mbytearray\u001b[0m\u001b[1;33m(\u001b[0m\u001b[0mamt\u001b[0m\u001b[1;33m)\u001b[0m\u001b[1;33m\u001b[0m\u001b[1;33m\u001b[0m\u001b[0m\n\u001b[1;32m--> 457\u001b[1;33m             \u001b[0mn\u001b[0m \u001b[1;33m=\u001b[0m \u001b[0mself\u001b[0m\u001b[1;33m.\u001b[0m\u001b[0mreadinto\u001b[0m\u001b[1;33m(\u001b[0m\u001b[0mb\u001b[0m\u001b[1;33m)\u001b[0m\u001b[1;33m\u001b[0m\u001b[1;33m\u001b[0m\u001b[0m\n\u001b[0m\u001b[0;32m    458\u001b[0m             \u001b[1;32mreturn\u001b[0m \u001b[0mmemoryview\u001b[0m\u001b[1;33m(\u001b[0m\u001b[0mb\u001b[0m\u001b[1;33m)\u001b[0m\u001b[1;33m[\u001b[0m\u001b[1;33m:\u001b[0m\u001b[0mn\u001b[0m\u001b[1;33m]\u001b[0m\u001b[1;33m.\u001b[0m\u001b[0mtobytes\u001b[0m\u001b[1;33m(\u001b[0m\u001b[1;33m)\u001b[0m\u001b[1;33m\u001b[0m\u001b[1;33m\u001b[0m\u001b[0m\n\u001b[0;32m    459\u001b[0m         \u001b[1;32melse\u001b[0m\u001b[1;33m:\u001b[0m\u001b[1;33m\u001b[0m\u001b[1;33m\u001b[0m\u001b[0m\n",
      "\u001b[1;32m~\\Anaconda3\\lib\\http\\client.py\u001b[0m in \u001b[0;36mreadinto\u001b[1;34m(self, b)\u001b[0m\n\u001b[0;32m    489\u001b[0m \u001b[1;33m\u001b[0m\u001b[0m\n\u001b[0;32m    490\u001b[0m         \u001b[1;32mif\u001b[0m \u001b[0mself\u001b[0m\u001b[1;33m.\u001b[0m\u001b[0mchunked\u001b[0m\u001b[1;33m:\u001b[0m\u001b[1;33m\u001b[0m\u001b[1;33m\u001b[0m\u001b[0m\n\u001b[1;32m--> 491\u001b[1;33m             \u001b[1;32mreturn\u001b[0m \u001b[0mself\u001b[0m\u001b[1;33m.\u001b[0m\u001b[0m_readinto_chunked\u001b[0m\u001b[1;33m(\u001b[0m\u001b[0mb\u001b[0m\u001b[1;33m)\u001b[0m\u001b[1;33m\u001b[0m\u001b[1;33m\u001b[0m\u001b[0m\n\u001b[0m\u001b[0;32m    492\u001b[0m \u001b[1;33m\u001b[0m\u001b[0m\n\u001b[0;32m    493\u001b[0m         \u001b[1;32mif\u001b[0m \u001b[0mself\u001b[0m\u001b[1;33m.\u001b[0m\u001b[0mlength\u001b[0m \u001b[1;32mis\u001b[0m \u001b[1;32mnot\u001b[0m \u001b[1;32mNone\u001b[0m\u001b[1;33m:\u001b[0m\u001b[1;33m\u001b[0m\u001b[1;33m\u001b[0m\u001b[0m\n",
      "\u001b[1;32m~\\Anaconda3\\lib\\http\\client.py\u001b[0m in \u001b[0;36m_readinto_chunked\u001b[1;34m(self, b)\u001b[0m\n\u001b[0;32m    584\u001b[0m         \u001b[1;32mtry\u001b[0m\u001b[1;33m:\u001b[0m\u001b[1;33m\u001b[0m\u001b[1;33m\u001b[0m\u001b[0m\n\u001b[0;32m    585\u001b[0m             \u001b[1;32mwhile\u001b[0m \u001b[1;32mTrue\u001b[0m\u001b[1;33m:\u001b[0m\u001b[1;33m\u001b[0m\u001b[1;33m\u001b[0m\u001b[0m\n\u001b[1;32m--> 586\u001b[1;33m                 \u001b[0mchunk_left\u001b[0m \u001b[1;33m=\u001b[0m \u001b[0mself\u001b[0m\u001b[1;33m.\u001b[0m\u001b[0m_get_chunk_left\u001b[0m\u001b[1;33m(\u001b[0m\u001b[1;33m)\u001b[0m\u001b[1;33m\u001b[0m\u001b[1;33m\u001b[0m\u001b[0m\n\u001b[0m\u001b[0;32m    587\u001b[0m                 \u001b[1;32mif\u001b[0m \u001b[0mchunk_left\u001b[0m \u001b[1;32mis\u001b[0m \u001b[1;32mNone\u001b[0m\u001b[1;33m:\u001b[0m\u001b[1;33m\u001b[0m\u001b[1;33m\u001b[0m\u001b[0m\n\u001b[0;32m    588\u001b[0m                     \u001b[1;32mreturn\u001b[0m \u001b[0mtotal_bytes\u001b[0m\u001b[1;33m\u001b[0m\u001b[1;33m\u001b[0m\u001b[0m\n",
      "\u001b[1;32m~\\Anaconda3\\lib\\http\\client.py\u001b[0m in \u001b[0;36m_get_chunk_left\u001b[1;34m(self)\u001b[0m\n\u001b[0;32m    552\u001b[0m                 \u001b[0mself\u001b[0m\u001b[1;33m.\u001b[0m\u001b[0m_safe_read\u001b[0m\u001b[1;33m(\u001b[0m\u001b[1;36m2\u001b[0m\u001b[1;33m)\u001b[0m  \u001b[1;31m# toss the CRLF at the end of the chunk\u001b[0m\u001b[1;33m\u001b[0m\u001b[1;33m\u001b[0m\u001b[0m\n\u001b[0;32m    553\u001b[0m             \u001b[1;32mtry\u001b[0m\u001b[1;33m:\u001b[0m\u001b[1;33m\u001b[0m\u001b[1;33m\u001b[0m\u001b[0m\n\u001b[1;32m--> 554\u001b[1;33m                 \u001b[0mchunk_left\u001b[0m \u001b[1;33m=\u001b[0m \u001b[0mself\u001b[0m\u001b[1;33m.\u001b[0m\u001b[0m_read_next_chunk_size\u001b[0m\u001b[1;33m(\u001b[0m\u001b[1;33m)\u001b[0m\u001b[1;33m\u001b[0m\u001b[1;33m\u001b[0m\u001b[0m\n\u001b[0m\u001b[0;32m    555\u001b[0m             \u001b[1;32mexcept\u001b[0m \u001b[0mValueError\u001b[0m\u001b[1;33m:\u001b[0m\u001b[1;33m\u001b[0m\u001b[1;33m\u001b[0m\u001b[0m\n\u001b[0;32m    556\u001b[0m                 \u001b[1;32mraise\u001b[0m \u001b[0mIncompleteRead\u001b[0m\u001b[1;33m(\u001b[0m\u001b[1;34mb''\u001b[0m\u001b[1;33m)\u001b[0m\u001b[1;33m\u001b[0m\u001b[1;33m\u001b[0m\u001b[0m\n",
      "\u001b[1;32m~\\Anaconda3\\lib\\http\\client.py\u001b[0m in \u001b[0;36m_read_next_chunk_size\u001b[1;34m(self)\u001b[0m\n\u001b[0;32m    512\u001b[0m     \u001b[1;32mdef\u001b[0m \u001b[0m_read_next_chunk_size\u001b[0m\u001b[1;33m(\u001b[0m\u001b[0mself\u001b[0m\u001b[1;33m)\u001b[0m\u001b[1;33m:\u001b[0m\u001b[1;33m\u001b[0m\u001b[1;33m\u001b[0m\u001b[0m\n\u001b[0;32m    513\u001b[0m         \u001b[1;31m# Read the next chunk size from the file\u001b[0m\u001b[1;33m\u001b[0m\u001b[1;33m\u001b[0m\u001b[1;33m\u001b[0m\u001b[0m\n\u001b[1;32m--> 514\u001b[1;33m         \u001b[0mline\u001b[0m \u001b[1;33m=\u001b[0m \u001b[0mself\u001b[0m\u001b[1;33m.\u001b[0m\u001b[0mfp\u001b[0m\u001b[1;33m.\u001b[0m\u001b[0mreadline\u001b[0m\u001b[1;33m(\u001b[0m\u001b[0m_MAXLINE\u001b[0m \u001b[1;33m+\u001b[0m \u001b[1;36m1\u001b[0m\u001b[1;33m)\u001b[0m\u001b[1;33m\u001b[0m\u001b[1;33m\u001b[0m\u001b[0m\n\u001b[0m\u001b[0;32m    515\u001b[0m         \u001b[1;32mif\u001b[0m \u001b[0mlen\u001b[0m\u001b[1;33m(\u001b[0m\u001b[0mline\u001b[0m\u001b[1;33m)\u001b[0m \u001b[1;33m>\u001b[0m \u001b[0m_MAXLINE\u001b[0m\u001b[1;33m:\u001b[0m\u001b[1;33m\u001b[0m\u001b[1;33m\u001b[0m\u001b[0m\n\u001b[0;32m    516\u001b[0m             \u001b[1;32mraise\u001b[0m \u001b[0mLineTooLong\u001b[0m\u001b[1;33m(\u001b[0m\u001b[1;34m\"chunk size\"\u001b[0m\u001b[1;33m)\u001b[0m\u001b[1;33m\u001b[0m\u001b[1;33m\u001b[0m\u001b[0m\n",
      "\u001b[1;32m~\\Anaconda3\\lib\\socket.py\u001b[0m in \u001b[0;36mreadinto\u001b[1;34m(self, b)\u001b[0m\n\u001b[0;32m    587\u001b[0m         \u001b[1;32mwhile\u001b[0m \u001b[1;32mTrue\u001b[0m\u001b[1;33m:\u001b[0m\u001b[1;33m\u001b[0m\u001b[1;33m\u001b[0m\u001b[0m\n\u001b[0;32m    588\u001b[0m             \u001b[1;32mtry\u001b[0m\u001b[1;33m:\u001b[0m\u001b[1;33m\u001b[0m\u001b[1;33m\u001b[0m\u001b[0m\n\u001b[1;32m--> 589\u001b[1;33m                 \u001b[1;32mreturn\u001b[0m \u001b[0mself\u001b[0m\u001b[1;33m.\u001b[0m\u001b[0m_sock\u001b[0m\u001b[1;33m.\u001b[0m\u001b[0mrecv_into\u001b[0m\u001b[1;33m(\u001b[0m\u001b[0mb\u001b[0m\u001b[1;33m)\u001b[0m\u001b[1;33m\u001b[0m\u001b[1;33m\u001b[0m\u001b[0m\n\u001b[0m\u001b[0;32m    590\u001b[0m             \u001b[1;32mexcept\u001b[0m \u001b[0mtimeout\u001b[0m\u001b[1;33m:\u001b[0m\u001b[1;33m\u001b[0m\u001b[1;33m\u001b[0m\u001b[0m\n\u001b[0;32m    591\u001b[0m                 \u001b[0mself\u001b[0m\u001b[1;33m.\u001b[0m\u001b[0m_timeout_occurred\u001b[0m \u001b[1;33m=\u001b[0m \u001b[1;32mTrue\u001b[0m\u001b[1;33m\u001b[0m\u001b[1;33m\u001b[0m\u001b[0m\n",
      "\u001b[1;32m~\\Anaconda3\\lib\\site-packages\\urllib3\\contrib\\pyopenssl.py\u001b[0m in \u001b[0;36mrecv_into\u001b[1;34m(self, *args, **kwargs)\u001b[0m\n\u001b[0;32m    307\u001b[0m                 \u001b[1;32mraise\u001b[0m\u001b[1;33m\u001b[0m\u001b[1;33m\u001b[0m\u001b[0m\n\u001b[0;32m    308\u001b[0m         \u001b[1;32mexcept\u001b[0m \u001b[0mOpenSSL\u001b[0m\u001b[1;33m.\u001b[0m\u001b[0mSSL\u001b[0m\u001b[1;33m.\u001b[0m\u001b[0mWantReadError\u001b[0m\u001b[1;33m:\u001b[0m\u001b[1;33m\u001b[0m\u001b[1;33m\u001b[0m\u001b[0m\n\u001b[1;32m--> 309\u001b[1;33m             \u001b[1;32mif\u001b[0m \u001b[1;32mnot\u001b[0m \u001b[0mutil\u001b[0m\u001b[1;33m.\u001b[0m\u001b[0mwait_for_read\u001b[0m\u001b[1;33m(\u001b[0m\u001b[0mself\u001b[0m\u001b[1;33m.\u001b[0m\u001b[0msocket\u001b[0m\u001b[1;33m,\u001b[0m \u001b[0mself\u001b[0m\u001b[1;33m.\u001b[0m\u001b[0msocket\u001b[0m\u001b[1;33m.\u001b[0m\u001b[0mgettimeout\u001b[0m\u001b[1;33m(\u001b[0m\u001b[1;33m)\u001b[0m\u001b[1;33m)\u001b[0m\u001b[1;33m:\u001b[0m\u001b[1;33m\u001b[0m\u001b[1;33m\u001b[0m\u001b[0m\n\u001b[0m\u001b[0;32m    310\u001b[0m                 \u001b[1;32mraise\u001b[0m \u001b[0mtimeout\u001b[0m\u001b[1;33m(\u001b[0m\u001b[1;34m'The read operation timed out'\u001b[0m\u001b[1;33m)\u001b[0m\u001b[1;33m\u001b[0m\u001b[1;33m\u001b[0m\u001b[0m\n\u001b[0;32m    311\u001b[0m             \u001b[1;32melse\u001b[0m\u001b[1;33m:\u001b[0m\u001b[1;33m\u001b[0m\u001b[1;33m\u001b[0m\u001b[0m\n",
      "\u001b[1;32m~\\Anaconda3\\lib\\site-packages\\urllib3\\util\\wait.py\u001b[0m in \u001b[0;36mwait_for_read\u001b[1;34m(sock, timeout)\u001b[0m\n\u001b[0;32m    141\u001b[0m     \u001b[0mReturns\u001b[0m \u001b[1;32mTrue\u001b[0m \u001b[1;32mif\u001b[0m \u001b[0mthe\u001b[0m \u001b[0msocket\u001b[0m \u001b[1;32mis\u001b[0m \u001b[0mreadable\u001b[0m\u001b[1;33m,\u001b[0m \u001b[1;32mor\u001b[0m \u001b[1;32mFalse\u001b[0m \u001b[1;32mif\u001b[0m \u001b[0mthe\u001b[0m \u001b[0mtimeout\u001b[0m \u001b[0mexpired\u001b[0m\u001b[1;33m.\u001b[0m\u001b[1;33m\u001b[0m\u001b[1;33m\u001b[0m\u001b[0m\n\u001b[0;32m    142\u001b[0m     \"\"\"\n\u001b[1;32m--> 143\u001b[1;33m     \u001b[1;32mreturn\u001b[0m \u001b[0mwait_for_socket\u001b[0m\u001b[1;33m(\u001b[0m\u001b[0msock\u001b[0m\u001b[1;33m,\u001b[0m \u001b[0mread\u001b[0m\u001b[1;33m=\u001b[0m\u001b[1;32mTrue\u001b[0m\u001b[1;33m,\u001b[0m \u001b[0mtimeout\u001b[0m\u001b[1;33m=\u001b[0m\u001b[0mtimeout\u001b[0m\u001b[1;33m)\u001b[0m\u001b[1;33m\u001b[0m\u001b[1;33m\u001b[0m\u001b[0m\n\u001b[0m\u001b[0;32m    144\u001b[0m \u001b[1;33m\u001b[0m\u001b[0m\n\u001b[0;32m    145\u001b[0m \u001b[1;33m\u001b[0m\u001b[0m\n",
      "\u001b[1;32m~\\Anaconda3\\lib\\site-packages\\urllib3\\util\\wait.py\u001b[0m in \u001b[0;36mselect_wait_for_socket\u001b[1;34m(sock, read, write, timeout)\u001b[0m\n\u001b[0;32m     81\u001b[0m     \u001b[1;31m# thing.)\u001b[0m\u001b[1;33m\u001b[0m\u001b[1;33m\u001b[0m\u001b[1;33m\u001b[0m\u001b[0m\n\u001b[0;32m     82\u001b[0m     \u001b[0mfn\u001b[0m \u001b[1;33m=\u001b[0m \u001b[0mpartial\u001b[0m\u001b[1;33m(\u001b[0m\u001b[0mselect\u001b[0m\u001b[1;33m.\u001b[0m\u001b[0mselect\u001b[0m\u001b[1;33m,\u001b[0m \u001b[0mrcheck\u001b[0m\u001b[1;33m,\u001b[0m \u001b[0mwcheck\u001b[0m\u001b[1;33m,\u001b[0m \u001b[0mwcheck\u001b[0m\u001b[1;33m)\u001b[0m\u001b[1;33m\u001b[0m\u001b[1;33m\u001b[0m\u001b[0m\n\u001b[1;32m---> 83\u001b[1;33m     \u001b[0mrready\u001b[0m\u001b[1;33m,\u001b[0m \u001b[0mwready\u001b[0m\u001b[1;33m,\u001b[0m \u001b[0mxready\u001b[0m \u001b[1;33m=\u001b[0m \u001b[0m_retry_on_intr\u001b[0m\u001b[1;33m(\u001b[0m\u001b[0mfn\u001b[0m\u001b[1;33m,\u001b[0m \u001b[0mtimeout\u001b[0m\u001b[1;33m)\u001b[0m\u001b[1;33m\u001b[0m\u001b[1;33m\u001b[0m\u001b[0m\n\u001b[0m\u001b[0;32m     84\u001b[0m     \u001b[1;32mreturn\u001b[0m \u001b[0mbool\u001b[0m\u001b[1;33m(\u001b[0m\u001b[0mrready\u001b[0m \u001b[1;32mor\u001b[0m \u001b[0mwready\u001b[0m \u001b[1;32mor\u001b[0m \u001b[0mxready\u001b[0m\u001b[1;33m)\u001b[0m\u001b[1;33m\u001b[0m\u001b[1;33m\u001b[0m\u001b[0m\n\u001b[0;32m     85\u001b[0m \u001b[1;33m\u001b[0m\u001b[0m\n",
      "\u001b[1;32m~\\Anaconda3\\lib\\site-packages\\urllib3\\util\\wait.py\u001b[0m in \u001b[0;36m_retry_on_intr\u001b[1;34m(fn, timeout)\u001b[0m\n\u001b[0;32m     40\u001b[0m     \u001b[1;31m# Modern Python, that retries syscalls by default\u001b[0m\u001b[1;33m\u001b[0m\u001b[1;33m\u001b[0m\u001b[1;33m\u001b[0m\u001b[0m\n\u001b[0;32m     41\u001b[0m     \u001b[1;32mdef\u001b[0m \u001b[0m_retry_on_intr\u001b[0m\u001b[1;33m(\u001b[0m\u001b[0mfn\u001b[0m\u001b[1;33m,\u001b[0m \u001b[0mtimeout\u001b[0m\u001b[1;33m)\u001b[0m\u001b[1;33m:\u001b[0m\u001b[1;33m\u001b[0m\u001b[1;33m\u001b[0m\u001b[0m\n\u001b[1;32m---> 42\u001b[1;33m         \u001b[1;32mreturn\u001b[0m \u001b[0mfn\u001b[0m\u001b[1;33m(\u001b[0m\u001b[0mtimeout\u001b[0m\u001b[1;33m)\u001b[0m\u001b[1;33m\u001b[0m\u001b[1;33m\u001b[0m\u001b[0m\n\u001b[0m\u001b[0;32m     43\u001b[0m \u001b[1;32melse\u001b[0m\u001b[1;33m:\u001b[0m\u001b[1;33m\u001b[0m\u001b[1;33m\u001b[0m\u001b[0m\n\u001b[0;32m     44\u001b[0m     \u001b[1;31m# Old and broken Pythons.\u001b[0m\u001b[1;33m\u001b[0m\u001b[1;33m\u001b[0m\u001b[1;33m\u001b[0m\u001b[0m\n",
      "\u001b[1;31mKeyboardInterrupt\u001b[0m: "
     ]
    }
   ],
   "source": [
    "# Extraction\n",
    "tweets.filter(track=['corona', 'modi', 'india' ]) # WantReadError because too much data related to Modi , Corona and india is there on twitter"
   ]
  },
  {
   "cell_type": "markdown",
   "metadata": {},
   "source": [
    "__Analysis Steps__"
   ]
  },
  {
   "cell_type": "code",
   "execution_count": 9,
   "metadata": {},
   "outputs": [],
   "source": [
    "# Etract (raw_facts)\n",
    "\n",
    "# Tansform (inforamation)\n",
    "\n",
    "# Load  (data structures or fiels or database)"
   ]
  },
  {
   "cell_type": "markdown",
   "metadata": {},
   "source": [
    "    pypi.org\n",
    "\n",
    "    python package index"
   ]
  },
  {
   "cell_type": "code",
   "execution_count": 28,
   "metadata": {},
   "outputs": [],
   "source": [
    "fp = open('tweets.txt')\n",
    "data = fp.readline()\n",
    "fp.close()"
   ]
  },
  {
   "cell_type": "code",
   "execution_count": 29,
   "metadata": {},
   "outputs": [
    {
     "name": "stdout",
     "output_type": "stream",
     "text": [
      "<class 'str'>\n"
     ]
    }
   ],
   "source": [
    "print(type(data))"
   ]
  },
  {
   "cell_type": "code",
   "execution_count": 31,
   "metadata": {},
   "outputs": [],
   "source": [
    "import json"
   ]
  },
  {
   "cell_type": "code",
   "execution_count": 32,
   "metadata": {},
   "outputs": [],
   "source": [
    "data = json.loads(data)"
   ]
  },
  {
   "cell_type": "code",
   "execution_count": 33,
   "metadata": {},
   "outputs": [
    {
     "name": "stdout",
     "output_type": "stream",
     "text": [
      "<class 'dict'>\n"
     ]
    }
   ],
   "source": [
    "print(type(data))"
   ]
  },
  {
   "cell_type": "code",
   "execution_count": 35,
   "metadata": {},
   "outputs": [
    {
     "name": "stdout",
     "output_type": "stream",
     "text": [
      "created_at\n",
      "id\n",
      "id_str\n",
      "text\n",
      "source\n",
      "truncated\n",
      "in_reply_to_status_id\n",
      "in_reply_to_status_id_str\n",
      "in_reply_to_user_id\n",
      "in_reply_to_user_id_str\n",
      "in_reply_to_screen_name\n",
      "user\n",
      "geo\n",
      "coordinates\n",
      "place\n",
      "contributors\n",
      "retweeted_status\n",
      "is_quote_status\n",
      "quote_count\n",
      "reply_count\n",
      "retweet_count\n",
      "favorite_count\n",
      "entities\n",
      "favorited\n",
      "retweeted\n",
      "filter_level\n",
      "lang\n",
      "timestamp_ms\n"
     ]
    }
   ],
   "source": [
    "print(*data.keys(), sep='\\n')"
   ]
  },
  {
   "cell_type": "code",
   "execution_count": 36,
   "metadata": {},
   "outputs": [
    {
     "data": {
      "text/plain": [
       "'RT @sidharth_shukla: Not a lot out there... not much to do .. just hoping all’s fine with you ... take care of yourself n family too ....an…'"
      ]
     },
     "execution_count": 36,
     "metadata": {},
     "output_type": "execute_result"
    }
   ],
   "source": [
    "data['text']"
   ]
  },
  {
   "cell_type": "code",
   "execution_count": 38,
   "metadata": {},
   "outputs": [],
   "source": [
    "data['place']# ?"
   ]
  },
  {
   "cell_type": "code",
   "execution_count": 39,
   "metadata": {},
   "outputs": [
    {
     "data": {
      "text/plain": [
       "'en'"
      ]
     },
     "execution_count": 39,
     "metadata": {},
     "output_type": "execute_result"
    }
   ],
   "source": [
    "data['lang']"
   ]
  },
  {
   "cell_type": "code",
   "execution_count": 40,
   "metadata": {},
   "outputs": [
    {
     "data": {
      "text/plain": [
       "0"
      ]
     },
     "execution_count": 40,
     "metadata": {},
     "output_type": "execute_result"
    }
   ],
   "source": [
    "data['retweet_count']"
   ]
  },
  {
   "cell_type": "code",
   "execution_count": 4,
   "metadata": {},
   "outputs": [],
   "source": [
    "# Transformation\n",
    "import numpy as np\n",
    "import json\n",
    "place = []\n",
    "tweet = []\n",
    "lang = []\n",
    "hash_tags = []\n",
    "with open('tweets.txt') as fp:\n",
    "    for line in fp:\n",
    "        try:\n",
    "            d = json.loads(line)\n",
    "            tweet.append(d['text'])\n",
    "            if not d['place']:\n",
    "                place.append(np.nan)\n",
    "            else:\n",
    "                place.append(d['place']['country'])\n",
    "            lang.append(d['lang'])\n",
    "            data = d['text'].split()\n",
    "            for word in data:\n",
    "                if word.startswith('#'):\n",
    "                    hash_tags.append(word.lower().strip())\n",
    "        except Exception as e:\n",
    "            #print(e)\n",
    "            pass\n",
    "    fp.close()\n",
    "    "
   ]
  },
  {
   "cell_type": "code",
   "execution_count": 5,
   "metadata": {},
   "outputs": [],
   "source": [
    "import pandas as pd\n",
    "import matplotlib.pyplot as plt\n",
    "%matplotlib inline"
   ]
  },
  {
   "cell_type": "code",
   "execution_count": 6,
   "metadata": {},
   "outputs": [],
   "source": [
    "plt.rcParams['xtick.labelsize'] = 20\n",
    "plt.rcParams['xtick.color'] = 'red'\n"
   ]
  },
  {
   "cell_type": "code",
   "execution_count": 7,
   "metadata": {},
   "outputs": [
    {
     "data": {
      "text/plain": [
       "1786"
      ]
     },
     "execution_count": 7,
     "metadata": {},
     "output_type": "execute_result"
    }
   ],
   "source": [
    "len(tweet) # Length of tweets"
   ]
  },
  {
   "cell_type": "code",
   "execution_count": 8,
   "metadata": {},
   "outputs": [
    {
     "data": {
      "text/plain": [
       "1786"
      ]
     },
     "execution_count": 8,
     "metadata": {},
     "output_type": "execute_result"
    }
   ],
   "source": [
    "len(lang)"
   ]
  },
  {
   "cell_type": "code",
   "execution_count": 9,
   "metadata": {},
   "outputs": [
    {
     "data": {
      "text/plain": [
       "1786"
      ]
     },
     "execution_count": 9,
     "metadata": {},
     "output_type": "execute_result"
    }
   ],
   "source": [
    "len(place)"
   ]
  },
  {
   "cell_type": "code",
   "execution_count": 10,
   "metadata": {},
   "outputs": [],
   "source": [
    "df = pd.DataFrame({\n",
    "    'tweet': tweet,\n",
    "    'lang': lang,\n",
    "    'country': place\n",
    "})"
   ]
  },
  {
   "cell_type": "code",
   "execution_count": 11,
   "metadata": {},
   "outputs": [
    {
     "data": {
      "text/plain": [
       "(1786, 3)"
      ]
     },
     "execution_count": 11,
     "metadata": {},
     "output_type": "execute_result"
    }
   ],
   "source": [
    "df.shape"
   ]
  },
  {
   "cell_type": "code",
   "execution_count": 12,
   "metadata": {},
   "outputs": [
    {
     "data": {
      "text/html": [
       "<div>\n",
       "<style scoped>\n",
       "    .dataframe tbody tr th:only-of-type {\n",
       "        vertical-align: middle;\n",
       "    }\n",
       "\n",
       "    .dataframe tbody tr th {\n",
       "        vertical-align: top;\n",
       "    }\n",
       "\n",
       "    .dataframe thead th {\n",
       "        text-align: right;\n",
       "    }\n",
       "</style>\n",
       "<table border=\"1\" class=\"dataframe\">\n",
       "  <thead>\n",
       "    <tr style=\"text-align: right;\">\n",
       "      <th></th>\n",
       "      <th>tweet</th>\n",
       "      <th>lang</th>\n",
       "      <th>country</th>\n",
       "    </tr>\n",
       "  </thead>\n",
       "  <tbody>\n",
       "    <tr>\n",
       "      <td>0</td>\n",
       "      <td>RT @sidharth_shukla: Not a lot out there... no...</td>\n",
       "      <td>en</td>\n",
       "      <td>NaN</td>\n",
       "    </tr>\n",
       "    <tr>\n",
       "      <td>1</td>\n",
       "      <td>RT @EmaduddinS: Theses Peoples Are Not The Voi...</td>\n",
       "      <td>en</td>\n",
       "      <td>NaN</td>\n",
       "    </tr>\n",
       "    <tr>\n",
       "      <td>2</td>\n",
       "      <td>मुम्बई में रहने वाले मधुबनी के युवक की कोरोना ...</td>\n",
       "      <td>hi</td>\n",
       "      <td>NaN</td>\n",
       "    </tr>\n",
       "    <tr>\n",
       "      <td>3</td>\n",
       "      <td>@ishkarnBHANDARI Total Chinese Investment in I...</td>\n",
       "      <td>en</td>\n",
       "      <td>NaN</td>\n",
       "    </tr>\n",
       "    <tr>\n",
       "      <td>4</td>\n",
       "      <td>RT @gm2011744: A prominent leader in the India...</td>\n",
       "      <td>en</td>\n",
       "      <td>NaN</td>\n",
       "    </tr>\n",
       "  </tbody>\n",
       "</table>\n",
       "</div>"
      ],
      "text/plain": [
       "                                               tweet lang country\n",
       "0  RT @sidharth_shukla: Not a lot out there... no...   en     NaN\n",
       "1  RT @EmaduddinS: Theses Peoples Are Not The Voi...   en     NaN\n",
       "2  मुम्बई में रहने वाले मधुबनी के युवक की कोरोना ...   hi     NaN\n",
       "3  @ishkarnBHANDARI Total Chinese Investment in I...   en     NaN\n",
       "4  RT @gm2011744: A prominent leader in the India...   en     NaN"
      ]
     },
     "execution_count": 12,
     "metadata": {},
     "output_type": "execute_result"
    }
   ],
   "source": [
    "df.head()"
   ]
  },
  {
   "cell_type": "code",
   "execution_count": 15,
   "metadata": {},
   "outputs": [],
   "source": [
    "df.to_csv('tweets.csv') # Load"
   ]
  },
  {
   "cell_type": "code",
   "execution_count": 14,
   "metadata": {},
   "outputs": [],
   "source": [
    "plt.rcParams['figure.figsize'] = 12,6"
   ]
  },
  {
   "cell_type": "code",
   "execution_count": 16,
   "metadata": {},
   "outputs": [
    {
     "data": {
      "image/png": "[encoded data removed]",
      "text/plain": [
       "<Figure size 864x432 with 1 Axes>"
      ]
     },
     "metadata": {
      "needs_background": "light"
     },
     "output_type": "display_data"
    }
   ],
   "source": [
    "df['lang'].value_counts().plot(kind='bar')\n",
    "plt.ylim([0, 220])\n",
    "plt.show()"
   ]
  },
  {
   "cell_type": "code",
   "execution_count": 17,
   "metadata": {},
   "outputs": [
    {
     "data": {
      "text/plain": [
       "875"
      ]
     },
     "execution_count": 17,
     "metadata": {},
     "output_type": "execute_result"
    }
   ],
   "source": [
    "len(hash_tags)"
   ]
  },
  {
   "cell_type": "code",
   "execution_count": 18,
   "metadata": {},
   "outputs": [],
   "source": [
    "s = pd.Series(hash_tags)"
   ]
  },
  {
   "cell_type": "code",
   "execution_count": 21,
   "metadata": {},
   "outputs": [
    {
     "data": {
      "image/png": "[encoded data removed]",
      "text/plain": [
       "<Figure size 864x432 with 1 Axes>"
      ]
     },
     "metadata": {
      "needs_background": "light"
     },
     "output_type": "display_data"
    }
   ],
   "source": [
    "s.value_counts()[:20].plot(kind='bar')\n",
    "plt.show()"
   ]
  },
  {
   "cell_type": "code",
   "execution_count": 24,
   "metadata": {},
   "outputs": [
    {
     "data": {
      "image/png": "[encoded data removed]",
      "text/plain": [
       "<Figure size 864x432 with 1 Axes>"
      ]
     },
     "metadata": {
      "needs_background": "light"
     },
     "output_type": "display_data"
    }
   ],
   "source": [
    "df['country'].value_counts().plot(kind='bar')\n",
    "plt.show()"
   ]
  },
  {
   "cell_type": "code",
   "execution_count": 25,
   "metadata": {},
   "outputs": [
    {
     "data": {
      "text/plain": [
       "0       RT @sidharth_shukla: Not a lot out there... no...\n",
       "1       RT @EmaduddinS: Theses Peoples Are Not The Voi...\n",
       "2       मुम्बई में रहने वाले मधुबनी के युवक की कोरोना ...\n",
       "3       @ishkarnBHANDARI Total Chinese Investment in I...\n",
       "4       RT @gm2011744: A prominent leader in the India...\n",
       "                              ...                        \n",
       "1781    प्यार ❤️\\n\\n#canon5dmarkiv #ronin #gimbal #del...\n",
       "1782    RT @Thisisprabha: presenting u the pan india s...\n",
       "1783    RT @VikasSaraswat: \"Arundhati Roy knows Hindus...\n",
       "1784    RT @GlamLifeGuru: Super curious - anyone havin...\n",
       "1785    RT @QuirinWeber: \"Menschenopfer für den Kapita...\n",
       "Name: tweet, Length: 1786, dtype: object"
      ]
     },
     "execution_count": 25,
     "metadata": {},
     "output_type": "execute_result"
    }
   ],
   "source": [
    "df['tweet']"
   ]
  },
  {
   "cell_type": "code",
   "execution_count": 28,
   "metadata": {},
   "outputs": [],
   "source": [
    "tweets_en = []\n",
    "tweets_hi = []\n",
    "fp = open('tweets.txt')\n",
    "for line in fp:\n",
    "    try:\n",
    "        d = json.loads(line)\n",
    "        if d['lang'] == 'en':\n",
    "            tweets_en.append(d['text'])\n",
    "        elif d['lang'] == 'hi':\n",
    "            tweets_hi.append(d['text'])\n",
    "    except:\n",
    "        pass\n",
    "fp.close()"
   ]
  },
  {
   "cell_type": "code",
   "execution_count": 30,
   "metadata": {},
   "outputs": [
    {
     "data": {
      "text/plain": [
       "['मुम्बई में रहने वाले मधुबनी के युवक की कोरोना वायरस से मौत, गांव में हड़कंप \\nhttps://t.co/tshhFlIgGK',\n",
       " '@INCIndia Soniya ji  modi ko English bolna sikho jab online ate dehati language me speech dete hai...',\n",
       " 'RT @AtwalBheem: 5 चारों आेर कोरोना का साय़ा हैं\\nईसीलिय हमने आपके लिय बनाया है.. #FeverDetectionCamera  एक सरल व आसान उपाय...sparsh ...make…',\n",
       " 'RT @PiyushGoyal: कोरोना के विरुद्ध लड़ाई में PM @NarendraModi जी की दूरदर्शिता, तुरंत एक्शन लेने की क्षमता, व असाधारण नेतृत्व के कारण उ…',\n",
       " 'RT @lokarlorajniti: सूट-बूट में समस्या हो तो राहुल लंगोट में गांठ बांध इंडिया गेट के सामने आएं: शि\\u200dवसेना\\n#IsupportArnabGoswami https://t.co…',\n",
       " 'RT @ek_aalu_bonda: सूट बूट से समस्या है तो राहुल गांधी लंगोट में गांठ बांधकर इंडिया गेट के सामने आये- शिवसेना\\n\\nhttps://t.co/0YPHqqSewy',\n",
       " 'RT @ABPNews: बिल गेट्स ने पत्र लिखकर पीएम मोदी द्वारा गए कोरोना के खिलाफ लड़ाई में उठाए गए कदमों की सराहना की है.\\n\\n#BillGates \\n#Narendermod…',\n",
       " 'RT @dazzlepn: झूठा #Arnab \\n\\n2002 मे कहा #Modi \\n ने उस्पे करवाया #ArnabGoswamiAttacked \\n\\n2020 मे कहता है #Sonia_Gandhi ने #SoniaAttacksArnab…',\n",
       " 'RT @rohit_chahal: केलों पर पेशाब छिड़कता विक्रेता पकड़ा रंगे हाथ, बचाने आ गए @Javedakhtarjadu - India News Jai Hind @TarekFatah https://t.c…',\n",
       " 'RT @Hema37016080: @Swamy39 @ThePrintIndia जब देश की प्रथम महिला सविता कोविंद #Corona से बचाव के लिए खुद मास्क सिलने लगें, तो समझ लीजिए कि आ…',\n",
       " 'RT @satyendrarai5: बहुत खोज के बाद एक परिवार को ढूंढ पाए श्रीमान @ashutosh83B ,अब चाहते है खूब हो-हल्ला मचे।अब इनको कौन समझाए कि जुलाई 2018…',\n",
       " 'Ek Bar dancer ko uske asli naam se bula ne pr koi bhi vyakti anti-India ho jata hai??? \\n\\nWah re Congressi chamcho k… https://t.co/qY1mp7ktz4',\n",
       " 'RT @Republic_Bharat: गृहमंत्रालय ने अर्नब गोस्वामी पर हमले पर बयान जारी किया; MoS रेड्डी बोले- लोकतंत्र के चौथे स्तंभ पर हमला\\n\\n#SoniaGoonsA…',\n",
       " '@NitishV01021981 @LambaAlka @INCIndia @INCDelhi Jo india lead kar raha tha after atomic bomb research by humi bhabh… https://t.co/nt5J3wdXcB',\n",
       " '@Md_irshad417173 @mohamme07145787 @ap_ssnaga @HussainAzamPage @asadowaisi Dekh india me jitne bhi muslim hai vo hin… https://t.co/rS61aevbUA',\n",
       " 'RT @Republic_Bharat: गृहमंत्रालय ने अर्नब गोस्वामी पर हमले पर बयान जारी किया; MoS रेड्डी बोले- लोकतंत्र के चौथे स्तंभ पर हमला\\n\\n#SoniaGoonsA…',\n",
       " 'RT @mauryarajeev8: यदि देश में कुछ नीच जातिवादी लोगों ने apartheid सोच देश में बना ली है तो बहुत ही अच्छा है,पर इसका नुकसान भी इन्हीको उठा…',\n",
       " 'RT @Republic_Bharat: गृहमंत्रालय ने अर्नब गोस्वामी पर हमले पर बयान जारी किया; MoS रेड्डी बोले- लोकतंत्र के चौथे स्तंभ पर हमला\\n\\n#SoniaGoonsA…',\n",
       " 'आज ही छोड़ दें ये आदत, वर्ना हो जाएंगे कोरोना संक्रमण के शिकार https://t.co/M4kgixe621 via @Chhattisgarh Times',\n",
       " 'RT @ABPNews: सोनिया गांधी पर कमेंट के बाद #RepublicTV के एडिटर इन चीफ अर्णब गोस्वामी पर मुंबई में हमला हुआ है. ये हमला उस वक्त हुआ, जब वह…',\n",
       " 'RT @yadavtejashwi: नैतिकता, मर्यादा और नियमों को ताक पर रख माननीय मुख्यमंत्री जी ने सीधे हस्तक्षेप कर अपने रिश्तेदार का निलंबन क्यों रुकवा…',\n",
       " 'RT @ashutosh83B: एमपी में एक हिंदू परिवार ने पुलिस इंस्पेक्टर का सिर फोड़ दिया।कोरोना की जांच को गये थे। दक्षिणपंथी चुप, टीवी चुप। मुस्लिम…',\n",
       " \"RT @Republic_Bharat: #SoniaGoonsAttackArnab | अर्नब गोस्वामी पर हुए हमले के तुरंत बाद अलका लांबा ने मनाया जश्न, कहा- 'युवा कांग्रेस जिंदाबा…\",\n",
       " \"RT @Republic_Bharat: #SoniaGoonsAttackArnab | अर्नब गोस्वामी पर हुए हमले के तुरंत बाद अलका लांबा ने मनाया जश्न, कहा- 'युवा कांग्रेस जिंदाबा…\",\n",
       " 'RT @iamsrk: Bhai kamaal ka Single aur Singer hai...',\n",
       " '@harshsa48505916 @JhaPriyankha @BabitaPhogat Moot to sale tum pi hi rahe hona modi ka aur kiska kiska piyoge pachega nahi',\n",
       " 'RT @rishibagree: दाम गिरकर $17 से $20 हो गए है😜',\n",
       " 'RT @007AliSohrab: #Islamophobia_In_India का आलम यह है कि पुलिस पर हमला करने वालों में कोई मुस्लिम एंगल नहीं...तो किसी TV पर न्यूज़ नहीं, को…',\n",
       " 'RT @007AliSohrab: #Islamophobia_In_India का आलम यह है कि पुलिस पर हमला करने वालों में कोई मुस्लिम एंगल नहीं...तो किसी TV पर न्यूज़ नहीं, को…',\n",
       " \"RT @Republic_Bharat: #SoniaGoonsAttackArnab | अर्नब गोस्वामी पर हुए हमले के तुरंत बाद अलका लांबा ने मनाया जश्न, कहा- 'युवा कांग्रेस जिंदाबा…\",\n",
       " 'RT @Praveenmalik86: #कोरोना महामारी के मद्देनज़र सभी निजी स्कूलों को इस संदर्भ में अपना योगदान देते हुए।\\nवार्षिक शुल्क को पूर्णतः माफ़ करने…',\n",
       " 'RT @pratibhaiyc1: ऐसे संकट में एकजुटता चाहिए, लेकिन भाजपा की नफरत की राजनीति जारी है : सोनिया गांधी  https://t.co/STET5jyVED',\n",
       " 'RT @ZeeNews: #BREAKING : सरकारी कर्मचारियों को बड़ा झटका, #Corona संकट के बीच महंगाई भत्ता बढ़ाने पर लगी रोक\\n\\n@narendramodi @PMOIndia @ravi…',\n",
       " 'RT @KirtiTi11846940: 4 तूफ़ान के हालात हैं, ना किसी सफर में रहो ।\\nपंछियों से है गुज़ारिश, अपने शजर में रहो ।।Corona को मात देने के लिय  #Fe…',\n",
       " '@narendramodi पालघर के संतों की हत्या पर चुप्पी तोड़ो modi जी.शबाना आजमी का एक्सीडेंट याद है?तुरंत PMO से संदेश जा… https://t.co/xprWAtML2O',\n",
       " 'RT @ashutosh83B: एमपी में एक हिंदू परिवार ने पुलिस इंस्पेक्टर का सिर फोड़ दिया।कोरोना की जांच को गये थे। दक्षिणपंथी चुप, टीवी चुप। मुस्लिम…',\n",
       " 'RT @sumaniarora02: #ServingTheNation\\n@derasachasauda @Gurmeetramrahim Corona वायरस जैसी बीमारी से बचाव रखने के लिए अलग अलग शहरों में dera s…',\n",
       " 'RT @ashutosh83B: एमपी में एक हिंदू परिवार ने पुलिस इंस्पेक्टर का सिर फोड़ दिया।कोरोना की जांच को गये थे। दक्षिणपंथी चुप, टीवी चुप। मुस्लिम…',\n",
       " 'RT @ALNASAAR_77: हम खाड़ी के राज्यों में अपनी सरकारों से भारत के साथ संबंधों में कटौती करने का आह्वान करेंगे यदि भारत में मुसलमानों को सता…',\n",
       " 'भारत में मौजूदहैं 1.24 करोड़ कोरोना योद्धा: केंद्र\\nhttps://t.co/OU2ovQJ6jR\\n\\n#ArnabAttacked https://t.co/bI49duPNtk',\n",
       " 'सुप्रीम कोर्ट का आदेश: 50 प्रतिशत से ज्यादा आरक्षण संवैधानिक रूप से अमान्य...\\n\\n#SupremeCourt #Reservation \\n\\n https://t.co/W0dAOo3x17',\n",
       " 'RT @ashutosh83B: एमपी में एक हिंदू परिवार ने पुलिस इंस्पेक्टर का सिर फोड़ दिया।कोरोना की जांच को गये थे। दक्षिणपंथी चुप, टीवी चुप। मुस्लिम…',\n",
       " 'Matlab kuch bhi? \\nBaas to trend your third grade hashtags, kuch bhi \\n😂😂😂😂😂😂😂😂😂😂',\n",
       " 'RT @ashutosh83B: एमपी में एक हिंदू परिवार ने पुलिस इंस्पेक्टर का सिर फोड़ दिया।कोरोना की जांच को गये थे। दक्षिणपंथी चुप, टीवी चुप। मुस्लिम…',\n",
       " 'RT @rohit_chahal: केलों पर पेशाब छिड़कता विक्रेता पकड़ा रंगे हाथ, बचाने आ गए @Javedakhtarjadu - India News Jai Hind @TarekFatah https://t.c…',\n",
       " 'RT @apnarajeevnigam: पहले #ArnabGoswami और कांग्रेस को लड़ लेने दो #coronavirus से बाद में लड़ लेंगे.. corona कहीं भागा थोड़ी जा रहा है.. c…',\n",
       " 'RT @RRAMAN3: हिंदुस्तान में रहकर हिंदू संतों पर इतना घोर \\n\\nअत्याचार क्या कोई न्यायालय कोई मीडिया या \\n\\nसरकार इसकी भरपाई कर पाएगा ? \\n\\nशासन…',\n",
       " 'RT @SnowWhite_1379: Is edited video mein bhi saaf dikh raha hai ki dharm parivartan ke khilaf ye bol rahe hai\\nOr wo ldki kuch khas ghabrayi…',\n",
       " 'बिजनौर के ज़िलाधिकारी श्री रमाकान्त पांडेय जी ने आज आदेश जारी किया है कि अगर पूरे ज़िले में किसी की भी भूख से मौत… https://t.co/JQJO9LzbLF',\n",
       " 'RT @BoltaHindustan: चीन से मंगाए कोरोना टेस्ट किट में बड़ा घोटाला! लेकिन मीडिया में इस पर सवाल पूछने की हिम्मत नहीं\\n\\n#CoronaTestKit #China…',\n",
       " 'RT @ek_aalu_bonda: सूट बूट से समस्या है तो राहुल गांधी लंगोट में गांठ बांधकर इंडिया गेट के सामने आये- शिवसेना\\n\\nhttps://t.co/0YPHqqSewy',\n",
       " 'RT @priyankagandhi: लखनऊ के चिकन उद्योग ने देश-विदेश में यूपी का नाम रोशन किया है। नोटबंदी और जीएसटी की मार झेल रहे चिकन उद्योग को इस बंदी…',\n",
       " 'INDIA-शर्मनाक :..डॉक्\\u200dटर ने अकेले आधी रात कब्र खोदकर साथी डाक्टर का शव\\xa0दफनाया https://t.co/F2vupJHVH2 https://t.co/HazqkdgcPO',\n",
       " 'RT @Republic_Bharat: गृहमंत्रालय ने अर्नब गोस्वामी पर हमले पर बयान जारी किया; MoS रेड्डी बोले- लोकतंत्र के चौथे स्तंभ पर हमला\\n\\n#SoniaGoonsA…',\n",
       " 'RT @BoltaHindustan: चीन से मंगाए कोरोना टेस्ट किट में बड़ा घोटाला! लेकिन मीडिया में इस पर सवाल पूछने की हिम्मत नहीं\\n\\n#CoronaTestKit #China…',\n",
       " 'RT @hwnewsnetwork: फेक न्यूज़ और अफवाह से कोरोना की लड़ाई कमजोर न होने दे- नकवी  #BJP #BreakingNews #Congress #CoronaVirus #Featured #Hindi…',\n",
       " 'एमपी में #कोरोना से दो पुलिस अधिकारियों की मौत से खफा रिटायर्ड DSP ने पुलिसकर्मियों के मानवाधिकार को लेकर की शिकायत… https://t.co/iflIY9urc4',\n",
       " 'RT @Republic_Bharat: गृहमंत्रालय ने अर्नब गोस्वामी पर हमले पर बयान जारी किया; MoS रेड्डी बोले- लोकतंत्र के चौथे स्तंभ पर हमला\\n\\n#SoniaGoonsA…',\n",
       " 'RT @Shehzad_Ind: #CoronaParPolitics \\nकोरोना पर पॉलिटिक्स मत करोना \\n\\nजब दुनिया में मोदी की कोरोना लड़ाई का डंका \\n@INCIndia  करे शंका?\\n\\nजमात…',\n",
       " 'RT @priyankagandhi: लखनऊ के चिकन उद्योग ने देश-विदेश में यूपी का नाम रोशन किया है। नोटबंदी और जीएसटी की मार झेल रहे चिकन उद्योग को इस बंदी…',\n",
       " '@narendramodi \\nManniyo modi ji please hamari madad kijiye nehi to pure pariwar bhuke marna parega.hum ek din mojdur… https://t.co/2zk2FvtZmb',\n",
       " 'जियो के नाम पर #मुकेश_अंबानी ने #मोदी जी के सहयोग से #भारत को लूटा...\\n\\nअब उस लूट का लगभग 10% हिस्सा फ़ेसबुक के मा… https://t.co/3UdTmAO8S5',\n",
       " 'RT @PiyushGoyal: कोरोना के विरुद्ध लड़ाई में PM @NarendraModi जी की दूरदर्शिता, तुरंत एक्शन लेने की क्षमता, व असाधारण नेतृत्व के कारण उ…',\n",
       " 'जहाँ से निकाल कर लाए हो वहीं डाल लो। जिनकी शक्ल से नफरत है उनका वीडियो देखूँ ऐसी खुदगर्ज नही हूँ मैं।',\n",
       " 'RT @Republic_Bharat: गृहमंत्रालय ने अर्नब गोस्वामी पर हमले पर बयान जारी किया; MoS रेड्डी बोले- लोकतंत्र के चौथे स्तंभ पर हमला\\n\\n#SoniaGoonsA…',\n",
       " 'PADHO ACHE SE.. Maulana azaad ne deya thaa bhasan jama masjid me hua thaa vote.. Half half devide hota india.. BUT… https://t.co/xqBU4YuSFI',\n",
       " 'RT @Republic_Bharat: गृहमंत्रालय ने अर्नब गोस्वामी पर हमले पर बयान जारी किया; MoS रेड्डी बोले- लोकतंत्र के चौथे स्तंभ पर हमला\\n\\n#SoniaGoonsA…',\n",
       " 'RT @NSarswat29: Government of India : पत्रकारिता पर कलंक RepublicTv बन्द कराने व उसके एडिटर चीफ अर्नब को जेल भेजने के लिए याचिका - Sign the…',\n",
       " 'RT @Republic_Bharat: #SoniaGoonsAttackArnab | अर्नब गोस्वामी पर हुए हमले को लेकर कांग्रेस पर बरसे जेपी नड्डा, कहा- उनके मुख्यमंत्रियों ने…',\n",
       " 'RT @NayakRagini: चौथी कहानी- गौतम बुद्ध के अनुसार सबसे बड़ा दान !\\nअहंकार और प्रतिस्पर्धा दान की मूल भावना का हनन करते हैं..प्रेम और श्रद्धा…',\n",
       " 'RT @chitraaum: हमें कोरोना से लड़ना है, ये बात आप भूल तो नहीं रहे-',\n",
       " 'RT @ndtvindia: प्रत्येक परिवार को कम से कम 7,500 रुपये दिए जाने चाहिए : कांग्रेस कार्यसमिति की बैठक में सोनिया गांधी\\nhttps://t.co/XpgK2b9AH6',\n",
       " 'RT @ashutosh83B: एमपी में एक हिंदू परिवार ने पुलिस इंस्पेक्टर का सिर फोड़ दिया।कोरोना की जांच को गये थे। दक्षिणपंथी चुप, टीवी चुप। मुस्लिम…',\n",
       " 'RT @bunty_photo: हिन्दू संत हिन्दू संस्कृति की आधारशिला हैं, यदि राष्ट्र को सुरक्षित रखना है तो संस्कृति रक्षक संतो की सुरक्षा करनी होगी।…',\n",
       " 'RT @imapsr99: मनुष्य से बड़ा वायरस नहीं है पृथ्वी पर कोई 😥 #पृथ्वीदिवस #EarthDay2020 #EarthDay #earthdayeveryday',\n",
       " 'RT @Anujdeewana08: लोकतंत्र में Criticise करने का हक़ हर हिंदुस्तानी को है तो फिर रोमन सेना अर्नब की जान के पीछे क्यों पड़ी है?\\nसिपाहियों स…',\n",
       " 'RT @sambitswaraj: करोना से इस जंग के दौरान अमेरिका के एक सर्वे ने पाया है की भारत के PM श्री \\u2066@narendramodi\\u2069 जी की लोकप्रियता 68% पर है और…',\n",
       " 'RT @ishehnaz_gilll: Jesay tuu mujh say darta hai kullu 😁',\n",
       " \"RT @Republic_Bharat: #SoniaGoonsAttackArnab | अर्नब गोस्वामी पर हुए हमले के तुरंत बाद अलका लांबा ने मनाया जश्न, कहा- 'युवा कांग्रेस जिंदाबा…\",\n",
       " 'RT @ndtvindia: प्रत्येक परिवार को कम से कम 7,500 रुपये दिए जाने चाहिए : कांग्रेस कार्यसमिति की बैठक में सोनिया गांधी\\nhttps://t.co/XpgK2b9AH6',\n",
       " 'RT @Republic_Bharat: #SoniaGoonsAttackArnab |  अर्नब गोस्वामी पर हमले की शिवराज सिंह चौहान ने की निंदा, कहा- डराकर किसी की आवाज को दबा नहीं…',\n",
       " '@suhailiqbalkhan \\nTum  jaise Chhutiyo ko koi yaad nahi rakhega',\n",
       " 'RT @ChamanV27362472: जहां एक तरफ लाॅकडाउन के चलते पुलिस सबको घर के बाहर जाने से रोक रही है, वही दूसरी तरफ निर्दोष निहत्थे मासूम साधु संतों…',\n",
       " 'RT @ZeeNews: कोरोना पर आपके सवाल, ZEE NEWS के जवाब LIVE\\n\\n#AskZee पर ट्वीट कर पूछें सवाल \\n\\nZEE NEWS का जनसंवाद अभियान \\n\\n@Mimansa_Zee के साथ…',\n",
       " 'RT @MukeshK81906557: अगर सनातन धर्म बचेगा तभी मनुष्यता बचेगी। सनातन संस्कृति के रक्षक संतों की हत्या ने देश की आत्मा को झकझोर कर रख दिया है…',\n",
       " 'RT @PragyaB02557738: जिस तरह से संतो की निर्मम हत्या होती रही हैं हिंदू अब और नही सहेगा । सरकार से हमारी यही माग हैं की संतो की सुरक्षा हे…',\n",
       " '@JavedKhanSiddiq @Mdzeeshanayyub @UmarKhalidJNU वे Jo Corona suspect hote hue vi apne aap ko chhupa rhe hain. Jisne… https://t.co/JbTDfMxy0q',\n",
       " 'RT @_garrywalia: FIR से कुछ नही होता ! \\n\\nपुलिस को अरेस्ट करना चाहिए \\n\\nऔर कांग्रेस शासित राज्यों में इसके चैनल पर बैन लगना चाहिए \\n\\nबैन इसलिए…',\n",
       " 'RT @ashutosh83B: एमपी में एक हिंदू परिवार ने पुलिस इंस्पेक्टर का सिर फोड़ दिया।कोरोना की जांच को गये थे। दक्षिणपंथी चुप, टीवी चुप। मुस्लिम…',\n",
       " 'RT @Republic_Bharat: गृहमंत्रालय ने अर्नब गोस्वामी पर हमले पर बयान जारी किया; MoS रेड्डी बोले- लोकतंत्र के चौथे स्तंभ पर हमला\\n\\n#SoniaGoonsA…',\n",
       " 'RT @mahadevbkt: मैं पूछ्ना चाहता हू कि आखिर कब तक हिन्दुओं को प्रताड़नाएं सहनी होगी?  हिन्दू धर्म के साधु संतों की रक्षा के प्रति अपने दायि…',\n",
       " 'RT @harshso49813048: all India #Rail_Act_App_1961 मांगे न्याय और समानता का अधिकार 26 October 1977 से 2017 तक नियमित रूप से भर्ती करता रहे…',\n",
       " 'RT @007AliSohrab: #Islamophobia_In_India: जब देशव्यापी लॉकडाउन लागू हुआ तब से इंदौर में मुसलमानों में मौतों की संख्या में भारी वृद्धि हुई…',\n",
       " '@ABPNews Waisey CORONA kaal mein hin logon ko TABLIGI JAMAAT &amp; ANTONIO MAINO pata chala hai\\n\\nWah Rey CORONA thanks… https://t.co/4Gccowbopm',\n",
       " 'जय हिंद जय भारत प्रचार प्रसार लखनऊ \\n\\nअजय देवगन ने कोविड-19 ऐप के लिए प्रधानमंत्री मोदी को धन्यवाद दिया: आरोग्य सेतु… https://t.co/CL0b8SEp5z',\n",
       " 'Bhai mai hindu hu\\nHindu ko gaali nahi de rahe. Sanghi ko gaali de rahe hai. Who perpetrate terr0r in the name of hi… https://t.co/RQmkSkENad',\n",
       " 'अच्छा आप को नहीं बुलाई पार्टी में? नाराज मत होना अभी लॉक डाउन ख़तम होते बुलाएंगी',\n",
       " 'RT @ZeeNews: क्या @BeingSalmanKhan के पिता सलीम खान ने तोड़े #Lockdown के नियम? @ZEENEWS को बताई सच्चाई\\n\\n#ZeeJankariOnCorona #StayHome #Cor…',\n",
       " 'RT @Mrkhan_00729: कमाल करती है गोदी मिडीया!\\n\\nABP News ने दिखाया 205 देशों मे से 228 देश कोरोना के चपेटे मे!🤦🤦🤦\\n\\nAaj Tak ने बताया 40 अप्रैल…',\n",
       " '@Republic_Bharat कांग्रेस और corona दोनों घातक है \\nएक तन के लिये दूसरा वतन के लिए.🇮🇳🇮🇳🇮🇳',\n",
       " 'RT @KirtiTi11846940: कोरोना वायरस को लेकर भारत जैसी तैयारी किसी देश ने नही की होगी.!!\\nइतनी एडवांस तैयारी तो दुनिया का कोई विकसित देश भी न…',\n",
       " 'बिल गेट्स ने प्रधानमंत्री मोदी के क़दमों को सही ठहराते हुए की सराहना\\nhttps://t.co/HlvMs2lj7d https://t.co/Do5GHqWkHe',\n",
       " 'RT @SaharanpurNEWS: #Saharanpur: 167 लोगों की ताज़ा रिपोर्ट में 13 मरीज़ पाए गए कोरोना पॉजिटिव, संक्रमित मरीजों की संख्या 114 से बढ़कर हुई…',\n",
       " 'कोरोना का डर या बड़ी साजिश, झारखंड में ऐसे ठिकाने लगाया शव...\\n\\n#Jharkhand #Lockdown #COVID19 #CoronaVirus… https://t.co/ObMndPf0KZ',\n",
       " '@Divyans82790905 @iamrainarkay @majorgauravarya Meri sabse puchne ki aukaat hai aur mai sabse puchta bhi hu, lekin… https://t.co/e4BpBpatRb',\n",
       " 'RT @BoltaHindustan: चीन से मंगाए कोरोना टेस्ट किट में बड़ा घोटाला! लेकिन मीडिया में इस पर सवाल पूछने की हिम्मत नहीं\\n\\n#CoronaTestKit #China…',\n",
       " '@narendramodi Aap jesa koi nhi hai aap desh ko pahel rkha baad apne aap ko mager modi ji ye jehadi aap se nafrat ka… https://t.co/7SJKIskxCw',\n",
       " 'ऐसी जनता के लिये ही भगवान राम ने #UttarRamayan में कहा था \\n\\n“जनता से ज्यादा निर्दयी और स्वार्थी कोई नहीं”',\n",
       " 'RT @NageshSurwase2: हिन्दू संत देश की संस्कृति के आधार है आज देश मे हिंदू संत सुरक्षित नही है ,\\n\\n कभी उनको झुठे आरोपो मे फसाया जा रहा है क…',\n",
       " 'प्रधानमंत्री मोदी ने फोन पर लिया 106 वर्षीय पूर्व विधायक का आशीर्वाद, पूछा परिवार का हालचाल… https://t.co/s9BVLB5PjK',\n",
       " 'इस पर कब डिबेट होगी..?\\n\\n@sudhirchaudhary @RubikaLiyaquat @AMISHDEVGAN @Republic_Bharat @DChaurasia2312… https://t.co/77zBWxMkDD',\n",
       " '@Himansh71042301 @Mannat_2 @sambitswaraj @Mannat_2 kagaz dhundho pehle \\nIndia koi dumping ground nahi hain jiska bh… https://t.co/G2kHT2mHYh',\n",
       " 'RT @ashutosh83B: एमपी में एक हिंदू परिवार ने पुलिस इंस्पेक्टर का सिर फोड़ दिया।कोरोना की जांच को गये थे। दक्षिणपंथी चुप, टीवी चुप। मुस्लिम…',\n",
       " \"RT @Republic_Bharat: #SoniaGoonsAttackArnab | अर्नब गोस्वामी पर हुए हमले के तुरंत बाद अलका लांबा ने मनाया जश्न, कहा- 'युवा कांग्रेस जिंदाबा…\",\n",
       " 'बिल गेट्स ने प्रधानमंत्री मोदी को लिखा खत, कोरोना के खिलाफ लड़ाई और इसके लिए उठाए गए कदमों की सराहना की… https://t.co/WmUsBlbf1q',\n",
       " 'RT @Republic_Bharat: गृहमंत्रालय ने अर्नब गोस्वामी पर हमले पर बयान जारी किया; MoS रेड्डी बोले- लोकतंत्र के चौथे स्तंभ पर हमला\\n\\n#SoniaGoonsA…',\n",
       " 'RT @ArjunsinghWB: यह वीडियो अभी मुझे मिला है और मैं इसे पोस्ट करने से खुद को रोक नहीं पाया।यदि राज्य सरकार और इसके दबाव में चुप बैठे अधिका…',\n",
       " 'उत्तर प्रदेश - बलरामपुर जिलें में भी कोरोना ने दे दी है दस्तक, कोरोना पॉजिटिव का पहला मरीज आया सामने। | https://t.co/oeeLFjS2RF',\n",
       " \"RT @Republic_Bharat: #SoniaGoonsAttackArnab |  अनुपम खेर ने अर्नब गोस्वामी पर हमले को बताया 'कायराना', कहा- देश बदल चुका है, ये सब नहीं चल…\",\n",
       " 'RT @rammadhavbjp: BBC News हिंदी - कोरोना वायरस: महामारी से निपटने में दुनिया के सामने भारत ने पेश की मिसाल- नज़रिया https://t.co/AJG1rHfPmE',\n",
       " 'RT @ishehnaz_gilll: Jesay tuu mujh say darta hai kullu 😁',\n",
       " 'RT @IArnabRepublic: नमस्कार मैं अर्नब गोस्वामी मैंने कल रात मुझपर और मेरी पत्नी संयब्रता गोस्वामी पर सोनिया गाँधी के गुंडों द्वारा किये गए…',\n",
       " '@swamidipankar Waisey CORONA kaal mein hin logon ko TABLIGI JAMAAT &amp; ANTONIO MAINO pata chala hai\\n\\nWah Rey CORONA t… https://t.co/edLmIBYAIV',\n",
       " 'RT @brajeshksingh: प्रधानमंत्री @narendramodi Corona काल में दुनिया के सबसे असरदार नेता हैं, उनकी प्रशासनिक क्षमता, राजनीतिक सूझबूझ, जनता…',\n",
       " 'जय हिंद जय भारत प्रचार प्रसार लखनऊ \\n\\nप्रधानमंत्री मोदी ने फोन पर लिया 106 वर्षीय पूर्व विधायक का आशीर्वाद, पूछा परि… https://t.co/s7QaOH4EsL',\n",
       " '@LaljiDesaiG ye kuch paise ke liye bika hua insaan hai lekin ye samajh nahi raha ki agle 20/30 saal isko India mein hi kaatane hain',\n",
       " 'RT @AdvocatejJyoti: 21k se jyada CORONA k case ho gaye hain. Yahan logo ko alg hi tension hai abhi b.  Life is uncertain KRIPYA shanti and…',\n",
       " 'RT @AtwalBheem: 5 कोरोना वायरस को लेकर भारत जैसी तैयारी किसी देश ने नही की होगी.!!\\nइतनी एडवांस तैयारी तो दुनिया का कोई विकसित देश भी नहीं क…',\n",
       " 'RT @Vikrant64298940: भारत देश को हिंदू संत और भगवान की भूमि मानते है। लेकिन आज उसी देश में हिंदू संत और देवी देवता सुरक्षित नहीं रहे। हिंदू…',\n",
       " 'Shashi Tharoor jiske liye virat hindu hain wo modi ko circus lion bolta hain 😂😂😂😂😂😂😂😂😂😂\\nhttps://t.co/Zg7pn7iqhb',\n",
       " 'RT @GaonConnection: मजदूरों के लिए दस बाई दस के एक छोटे से कमरे में दिन काटना बहुत मुश्किल साबित हो रहा है। इसके साथ ही उन्हें खत्म होते रा…',\n",
       " 'स्वास्थ्यकर्मियों की सुरक्षा से कोई समझौता नहीं, उनकी रक्षा करना सरकार की प्रतिबद्धता: प्रधानमंत्री मोदी… https://t.co/EM5PcJMtgt',\n",
       " 'RT @umashankarsingh: मतलब कोरोना वॉरियर्स पर हमले कोरोना महामारी से पैदा हुई मानसिक ग्रंथियों की वजह से हो रहे हैं। हिन्दू या मुसलमान होने…',\n",
       " 'RT @SantanSinghNeg2: 5 Corona को मात देने के लिय  #FeverDetectionCamera का साथ दे...',\n",
       " 'RT @alok_ajay: एक से एक “दुर्लभ मूर्ख “ इस पृथ्वी पे उपलब्ध हैं , हे माँ आपदा विपदा में Dr ,नर्स ,पारामेडिकल , मास्क , sanitiser, वेंटिलेटर…',\n",
       " 'केपी शर्मा ओली ने प्रधानमंत्री मोदी का आभार जताया, पीएम ने कहा, \"भारत-नेपाल संबंध विशेष\"\\nhttps://t.co/64KSpQYUt6\\n\\nv… https://t.co/0YrPMZgVtO',\n",
       " 'RT @sambitswaraj: सोनिया जी आप ज़रा इटली को देखिए ..वहाँ क्या हो रहा है और शुक्र मनाइए की समय रहते भारत के प्रधानमंत्री ने सही फ़ैसला लिया…',\n",
       " 'RT @OpIndia_in: वे 22 हिन्दू चेहरे जिनकी लिंचिंग पर पूरा मीडिया शांत रहा- क्योंकि उनका नाम तबरेज, अखलाक नहीं था?\\n\\nhttps://t.co/kUiVfaSscx',\n",
       " 'RT @Pankajsharma722: jiski shadi nhi hui h wo khud ko sher smjhta h phir shuklaji aisi baate kyu kar rahe h ..\\ndaal main kuch kala yaa puri…',\n",
       " 'RT @Republic_Bharat: #SoniaGoonsAttackArnab |  अर्नब गोस्वामी पर हमले की शिवराज सिंह चौहान ने की निंदा, कहा- डराकर किसी की आवाज को दबा नहीं…',\n",
       " 'RT @ALNASAAR_77: हम खाड़ी के राज्यों में अपनी सरकारों से भारत के साथ संबंधों में कटौती करने का आह्वान करेंगे यदि भारत में मुसलमानों को सता…',\n",
       " 'RT @ashutosh83B: एमपी में एक हिंदू परिवार ने पुलिस इंस्पेक्टर का सिर फोड़ दिया।कोरोना की जांच को गये थे। दक्षिणपंथी चुप, टीवी चुप। मुस्लिम…',\n",
       " 'RT @Republic_Bharat: गृहमंत्रालय ने अर्नब गोस्वामी पर हमले पर बयान जारी किया; MoS रेड्डी बोले- लोकतंत्र के चौथे स्तंभ पर हमला\\n\\n#SoniaGoonsA…',\n",
       " 'RT @RajivLakhera1: महाराष्ट्र में हिन्दुओं ने हिन्दू सन्तो की हत्या की, अब मध्य प्रदेश में हिन्दुओं ने हिन्दू पुलिस वाले का सिर फोड़ दिया,…',\n",
       " '@Arkitayadav Ek sanstha tablighi jamat.\\nYha se jamati poore india me failte hai or travel history nhi batate, thook… https://t.co/jwbOp6R2iq',\n",
       " 'भारत में सितंबर तक कोविड-19 के 111 करोड़ केस हो सकते हैं: अमेरिकी संस्था #coronavirus\\n\\n#Corona #Covid_19 #COVID',\n",
       " 'सऊदी अरब में कोरोना से मरने वाले विदेशियों को घर भेजने के बजाए वहीं दफना दिया गया\\n\\nhttps://t.co/iZmhzF38HQ… https://t.co/XpFAwgvqEq',\n",
       " 'सारे हथकंडे अपना चुका पाकिस्तान अब भारत के खिलाफ साइबर वॉर की कोशिश में जुट गया है। \\n#Pakistan #India\\nhttps://t.co/GThKFXWMqv',\n",
       " 'RT @priyankagandhi: लखनऊ के चिकन उद्योग ने देश-विदेश में यूपी का नाम रोशन किया है। नोटबंदी और जीएसटी की मार झेल रहे चिकन उद्योग को इस बंदी…',\n",
       " '@Shahidmasooddr Sir ye Corona ka rona parra he tha k awam ko is haath day or us haath ly ki line mai laga diya gaya… https://t.co/XlyMmch9Hb',\n",
       " 'Kuch din inko ghar mein bithao\\nIss community mein andhar andhar covid 19 faila hua hai\\n\\nHum haath jodhte h🙏\\nHindust… https://t.co/Uvj441q0b1',\n",
       " 'RT @sarviind: एक पत्रकार पर हमला होने पर भी अपना एजेंडा चला रहे हैं. शायद शर्म बेच दी. #एसएससी स्टूडेंट्स लगातार #UFM मुद्दे पर ट्वीट कर र…',\n",
       " \"RT @Republic_Bharat: #SoniaGoonsAttackArnab |  अनुपम खेर ने अर्नब गोस्वामी पर हमले को बताया 'कायराना', कहा- देश बदल चुका है, ये सब नहीं चल…\",\n",
       " 'RT @ek_aalu_bonda: सूट बूट से समस्या है तो राहुल गांधी लंगोट में गांठ बांधकर इंडिया गेट के सामने आये- शिवसेना\\n\\nhttps://t.co/0YPHqqSewy',\n",
       " 'RT @ABPNews: बिल गेट्स ने पत्र लिखकर पीएम मोदी द्वारा गए कोरोना के खिलाफ लड़ाई में उठाए गए कदमों की सराहना की है.\\n\\n#BillGates \\n#Narendermod…',\n",
       " '#मोदी_है_तो_मुमकिन_है\\n\\n#कोरोना_हारेगा_देश_जीतेगा\\nबिल गेट्स ने प्रधानमंत्री मोदी को लिखा खत, कोरोना के खिलाफ लड़ाई औ… https://t.co/JaqHjYPgFT',\n",
       " 'RT @Republic_Bharat: गृहमंत्रालय ने अर्नब गोस्वामी पर हमले पर बयान जारी किया; MoS रेड्डी बोले- लोकतंत्र के चौथे स्तंभ पर हमला\\n\\n#SoniaGoonsA…',\n",
       " 'RT @IYCJharkhand: पूरे देश में #ArnabGoswami  के खिलाफ विरोध की मुहिम चल रही है। कई प्रदेश में इनके विरुद्ध FIR दर्ज किया जा रहा है। इसी क…',\n",
       " 'बिल गेट्स ने प्रधानमंत्री मोदी को लिखा खत, कोरोना के खिलाफ लड़ाई और इसके लिए उठाए गए कदमों की सराहना की… https://t.co/ZLzx231yBD',\n",
       " 'RT @Republic_Bharat: गृहमंत्रालय ने अर्नब गोस्वामी पर हमले पर बयान जारी किया; MoS रेड्डी बोले- लोकतंत्र के चौथे स्तंभ पर हमला\\n\\n#SoniaGoonsA…',\n",
       " 'RT @ashutosh83B: एमपी में एक हिंदू परिवार ने पुलिस इंस्पेक्टर का सिर फोड़ दिया।कोरोना की जांच को गये थे। दक्षिणपंथी चुप, टीवी चुप। मुस्लिम…',\n",
       " 'RT @sambitswaraj: राहुल जी\\nहिंदुस्तान का ग़रीब जगा हुआ है और परिपक्व भी है।वो समझता है कि ये संकट काल है और सरकार हर और से भरसर मदद कर रही…',\n",
       " 'मुंबई से 12 दिन में 800 किमी पैदल चलकर 51 लोग सलामतपुर पहुंचे, अभी यूपी के बहराइच तक जाने के लिए\\xa0700 किमी और\\xa0दूरी त… https://t.co/HSpnthKMLp',\n",
       " 'RT @Republic_Bharat: गृहमंत्रालय ने अर्नब गोस्वामी पर हमले पर बयान जारी किया; MoS रेड्डी बोले- लोकतंत्र के चौथे स्तंभ पर हमला\\n\\n#SoniaGoonsA…',\n",
       " 'RT @Republic_Bharat: गृहमंत्रालय ने अर्नब गोस्वामी पर हमले पर बयान जारी किया; MoS रेड्डी बोले- लोकतंत्र के चौथे स्तंभ पर हमला\\n\\n#SoniaGoonsA…',\n",
       " 'RT @dazzlepn: झूठा #Arnab \\n\\n2002 मे कहा #Modi \\n ने उस्पे करवाया #ArnabGoswamiAttacked \\n\\n2020 मे कहता है #Sonia_Gandhi ने #SoniaAttacksArnab…',\n",
       " 'RT @ABPNews: सोनिया गांधी पर कमेंट के बाद #RepublicTV के एडिटर इन चीफ अर्णब गोस्वामी पर मुंबई में हमला हुआ है. ये हमला उस वक्त हुआ, जब वह…',\n",
       " 'RT @vikasbhaABP: जब देश की प्रथम महिला सविता कोविंद #Corona से बचाव के लिए खुद मास्क सिलने लगें, तो समझ लीजिए कि आप इस लड़ाई में अकेले नही…',\n",
       " 'RT @BadiBahuu: मादर,इतने दिन से पत्थर चल रहा, थुकम थुकायी चल रही तो मुँह में लावाड़ा लेके बैठे थे का',\n",
       " 'RT @ek_aalu_bonda: सूट बूट से समस्या है तो राहुल गांधी लंगोट में गांठ बांधकर इंडिया गेट के सामने आये- शिवसेना\\n\\nhttps://t.co/0YPHqqSewy',\n",
       " 'RT @Republic_Bharat: गृहमंत्रालय ने अर्नब गोस्वामी पर हमले पर बयान जारी किया; MoS रेड्डी बोले- लोकतंत्र के चौथे स्तंभ पर हमला\\n\\n#SoniaGoonsA…',\n",
       " '@narendramodi Modi g jinke pas rasan card nahi he o log mitti khate he?',\n",
       " '@Md_irshad417173 @mohamme07145787 @ap_ssnaga @HussainAzamPage @asadowaisi Dekh india me jitne bhi muslim hai vo hin… https://t.co/MJBDgBPliA',\n",
       " 'RT @KirtiTi11846940: 4 तूफ़ान के हालात हैं, ना किसी सफर में रहो ।\\nपंछियों से है गुज़ारिश, अपने शजर में रहो ।।Corona को मात देने के लिय  #Fe…',\n",
       " \"You can have that take of two India's. We have akhand bharat, jo abb tumhare jaise logoon ko wajah se bikherega nah… https://t.co/YS6Udhawdr\",\n",
       " 'RT @ashutosh83B: एमपी में एक हिंदू परिवार ने पुलिस इंस्पेक्टर का सिर फोड़ दिया।कोरोना की जांच को गये थे। दक्षिणपंथी चुप, टीवी चुप। मुस्लिम…',\n",
       " 'RT @Live_Hindustan: फेसबुक पर पीएम मोदी का जलवा बरकरार, ज्यादा एक्टिव होकर भी अमेरिकी राष्ट्रपति डोनाल्\\u200dड ट्रंप हैं पीछे\\n\\n#Facebook #PMModi…',\n",
       " 'Mohammad Sadiq khan Jamia delhi india pori dunya ko pahchaanta hai sab loog shere zarour karen mobaile Nambur 96253… https://t.co/PoLmZH0RkP',\n",
       " 'RT @MukeshK81906557: अगर सनातन धर्म बचेगा तभी मनुष्यता बचेगी। सनातन संस्कृति के रक्षक संतों की हत्या ने देश की आत्मा को झकझोर कर रख दिया है…',\n",
       " 'RT @Anilguptachanp2: अनिल गुप्ता\\n\\nप्रधानमंत्री मोदी ने अपनी पुरानी कविता को साझा करने वाले फेसबुक यूजर को कहा - शुक्रिया\\nhttps://t.co/uJvBB…',\n",
       " 'समाज के दुशमन है । ऐसे लोग @BeingSalmanKhan',\n",
       " 'RT @007AliSohrab: #Islamophobia_In_India का आलम यह है कि पुलिस पर हमला करने वालों में कोई मुस्लिम एंगल नहीं...तो किसी TV पर न्यूज़ नहीं, को…',\n",
       " 'RT @pratibhaiyc1: ऐसे संकट में एकजुटता चाहिए, लेकिन भाजपा की नफरत की राजनीति जारी है : सोनिया गांधी  https://t.co/STET5jyVED',\n",
       " 'RT @priyankagandhi: लखनऊ के चिकन उद्योग ने देश-विदेश में यूपी का नाम रोशन किया है। नोटबंदी और जीएसटी की मार झेल रहे चिकन उद्योग को इस बंदी…']"
      ]
     },
     "execution_count": 30,
     "metadata": {},
     "output_type": "execute_result"
    }
   ],
   "source": [
    "tweets_hi"
   ]
  },
  {
   "cell_type": "markdown",
   "metadata": {},
   "source": [
    "### NLP"
   ]
  },
  {
   "cell_type": "markdown",
   "metadata": {},
   "source": [
    "    nltk"
   ]
  },
  {
   "cell_type": "markdown",
   "metadata": {},
   "source": [
    "\n",
    "tweet --> tokens (words)\n",
    "\n",
    "stop_words removal\n",
    "\n",
    "word count \n",
    "\n"
   ]
  },
  {
   "cell_type": "code",
   "execution_count": 33,
   "metadata": {},
   "outputs": [],
   "source": [
    "from nltk.corpus import stopwords"
   ]
  },
  {
   "cell_type": "code",
   "execution_count": 36,
   "metadata": {},
   "outputs": [],
   "source": [
    "st = stopwords.words('english')"
   ]
  },
  {
   "cell_type": "code",
   "execution_count": 37,
   "metadata": {},
   "outputs": [],
   "source": [
    "words = [ word for word in line.split() if word.lower() not in st for line in tweets_en]"
   ]
  },
  {
   "cell_type": "code",
   "execution_count": 38,
   "metadata": {},
   "outputs": [
    {
     "data": {
      "text/plain": [
       "[]"
      ]
     },
     "execution_count": 38,
     "metadata": {},
     "output_type": "execute_result"
    }
   ],
   "source": [
    "words"
   ]
  },
  {
   "cell_type": "code",
   "execution_count": 46,
   "metadata": {},
   "outputs": [],
   "source": [
    "import string"
   ]
  },
  {
   "cell_type": "code",
   "execution_count": 47,
   "metadata": {},
   "outputs": [
    {
     "data": {
      "text/plain": [
       "'!\"#$%&\\'()*+,-./:;<=>?@[\\\\]^_`{|}~'"
      ]
     },
     "execution_count": 47,
     "metadata": {},
     "output_type": "execute_result"
    }
   ],
   "source": [
    "string.punctuation"
   ]
  },
  {
   "cell_type": "code",
   "execution_count": 44,
   "metadata": {},
   "outputs": [],
   "source": [
    "words = []\n",
    "for line in tweets_en:\n",
    "    for word in line.split():\n",
    "        if word.lower() not in st:\n",
    "            words.append(word.lower())"
   ]
  },
  {
   "cell_type": "code",
   "execution_count": 48,
   "metadata": {},
   "outputs": [],
   "source": [
    "s = pd.Series(words)"
   ]
  },
  {
   "cell_type": "code",
   "execution_count": 53,
   "metadata": {},
   "outputs": [
    {
     "data": {
      "image/png": "[encoded data removed]",
      "text/plain": [
       "<Figure size 864x432 with 1 Axes>"
      ]
     },
     "metadata": {
      "needs_background": "light"
     },
     "output_type": "display_data"
    }
   ],
   "source": [
    "s.value_counts()[:20].plot(kind='bar')\n",
    "plt.show()"
   ]
  },
  {
   "cell_type": "markdown",
   "metadata": {},
   "source": [
    "__Other way to use this Data__"
   ]
  },
  {
   "cell_type": "markdown",
   "metadata": {},
   "source": [
    "Regular Expression\n",
    "\n",
    "Machine Learning"
   ]
  },
  {
   "cell_type": "markdown",
   "metadata": {},
   "source": [
    " "
   ]
  }
 ],
 "metadata": {
  "kernelspec": {
   "display_name": "Python 3",
   "language": "python",
   "name": "python3"
  },
  "language_info": {
   "codemirror_mode": {
    "name": "ipython",
    "version": 3
   },
   "file_extension": ".py",
   "mimetype": "text/x-python",
   "name": "python",
   "nbconvert_exporter": "python",
   "pygments_lexer": "ipython3",
   "version": "3.7.4"
  }
 },
 "nbformat": 4,
 "nbformat_minor": 2
}
